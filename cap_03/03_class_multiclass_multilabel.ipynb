{
 "cells": [
  {
   "cell_type": "markdown",
   "metadata": {},
   "source": [
    "**Chapter 3 – Classification**\n",
    "\n",
    "_This notebook contains all the sample code and solutions to the exercises in chapter 3._"
   ]
  },
  {
   "cell_type": "markdown",
   "metadata": {},
   "source": [
    "<table align=\"left\">\n",
    "  <td>\n",
    "    <a target=\"_blank\" href=\"https://colab.research.google.com/github/ageron/handson-ml2/blob/master/03_classification.ipynb\"><img src=\"https://www.tensorflow.org/images/colab_logo_32px.png\" />Run in Google Colab</a>\n",
    "  </td>\n",
    "</table>"
   ]
  },
  {
   "cell_type": "markdown",
   "metadata": {},
   "source": [
    "# Setup"
   ]
  },
  {
   "cell_type": "markdown",
   "metadata": {},
   "source": [
    "First, let's import a few common modules, ensure MatplotLib plots figures inline and prepare a function to save the figures. We also check that Python 3.5 or later is installed (although Python 2.x may work, it is deprecated so we strongly recommend you use Python 3 instead), as well as Scikit-Learn ≥0.20."
   ]
  },
  {
   "cell_type": "code",
   "execution_count": 36,
   "metadata": {},
   "outputs": [],
   "source": [
    "# Scikit-Learn ≥0.20 is required\n",
    "import sklearn\n",
    "assert sklearn.__version__ >= \"0.24\"\n",
    "\n",
    "# Common imports\n",
    "import pandas as pd\n",
    "import numpy as np\n",
    "np.random.seed(42)\n",
    "\n",
    "# To plot pretty figures\n",
    "import matplotlib.pyplot as plt\n",
    "%matplotlib inline"
   ]
  },
  {
   "cell_type": "markdown",
   "metadata": {},
   "source": [
    "# MNIST_exemplo"
   ]
  },
  {
   "cell_type": "code",
   "execution_count": 107,
   "metadata": {},
   "outputs": [],
   "source": [
    "assert 1==1"
   ]
  },
  {
   "cell_type": "code",
   "execution_count": 2,
   "metadata": {},
   "outputs": [
    {
     "data": {
      "text/plain": [
       "dict_keys(['data', 'target', 'frame', 'categories', 'feature_names', 'target_names', 'DESCR', 'details', 'url'])"
      ]
     },
     "execution_count": 2,
     "metadata": {},
     "output_type": "execute_result"
    }
   ],
   "source": [
    "from sklearn.datasets import fetch_openml\n",
    "mnist = fetch_openml('mnist_784', version=1)\n",
    "mnist.keys()"
   ]
  },
  {
   "cell_type": "code",
   "execution_count": 3,
   "metadata": {},
   "outputs": [
    {
     "data": {
      "text/plain": [
       "(70000, 784)"
      ]
     },
     "execution_count": 3,
     "metadata": {},
     "output_type": "execute_result"
    }
   ],
   "source": [
    "X, y = mnist[\"data\"], mnist[\"target\"]\n",
    "X.shape"
   ]
  },
  {
   "cell_type": "code",
   "execution_count": 4,
   "metadata": {},
   "outputs": [
    {
     "data": {
      "text/plain": [
       "(70000,)"
      ]
     },
     "execution_count": 4,
     "metadata": {},
     "output_type": "execute_result"
    }
   ],
   "source": [
    "y.shape"
   ]
  },
  {
   "cell_type": "code",
   "execution_count": 5,
   "metadata": {},
   "outputs": [],
   "source": [
    "y = y.astype(np.uint8)"
   ]
  },
  {
   "cell_type": "code",
   "execution_count": 6,
   "metadata": {},
   "outputs": [],
   "source": [
    "X_train, X_test, y_train, y_test = X[:60000], X[60000:], y[:60000], y[60000:]"
   ]
  },
  {
   "cell_type": "markdown",
   "metadata": {},
   "source": [
    "# Multiclass classification"
   ]
  },
  {
   "cell_type": "code",
   "execution_count": 7,
   "metadata": {},
   "outputs": [
    {
     "data": {
      "text/plain": [
       "SVC(gamma='auto', random_state=42)"
      ]
     },
     "execution_count": 7,
     "metadata": {},
     "output_type": "execute_result"
    }
   ],
   "source": [
    "from sklearn.svm import SVC\n",
    "\n",
    "svm_clf = SVC(gamma=\"auto\", random_state=42)\n",
    "svm_clf.fit(X_train[:1000], y_train[:1000]) # y_train, not y_train_5"
   ]
  },
  {
   "cell_type": "code",
   "execution_count": 8,
   "metadata": {},
   "outputs": [
    {
     "data": {
      "text/plain": [
       "array([7], dtype=uint8)"
      ]
     },
     "execution_count": 8,
     "metadata": {},
     "output_type": "execute_result"
    }
   ],
   "source": [
    "svm_clf.predict(X_test[:1])"
   ]
  },
  {
   "cell_type": "code",
   "execution_count": 9,
   "metadata": {},
   "outputs": [
    {
     "data": {
      "text/plain": [
       "array([[ 3.93672053,  8.19324105,  4.98585718,  1.87180719,  7.1107916 ,\n",
       "         0.85998001,  2.88509577,  9.19744483, -0.18355263,  6.01561605]])"
      ]
     },
     "execution_count": 9,
     "metadata": {},
     "output_type": "execute_result"
    }
   ],
   "source": [
    "some_digit_scores = svm_clf.decision_function(X_test[:1])\n",
    "some_digit_scores"
   ]
  },
  {
   "cell_type": "code",
   "execution_count": 10,
   "metadata": {},
   "outputs": [
    {
     "data": {
      "text/plain": [
       "7"
      ]
     },
     "execution_count": 10,
     "metadata": {},
     "output_type": "execute_result"
    }
   ],
   "source": [
    "np.argmax(some_digit_scores)"
   ]
  },
  {
   "cell_type": "code",
   "execution_count": null,
   "metadata": {},
   "outputs": [],
   "source": [
    "from sklearn.multiclass import OneVsRestClassifier\n",
    "ovr_clf = OneVsRestClassifier(SVC(gamma=\"auto\", random_state=42))\n",
    "ovr_clf.fit(X_train[:1000], y_train[:1000])\n",
    "ovr_clf.predict(X_test[:1])"
   ]
  },
  {
   "cell_type": "code",
   "execution_count": 13,
   "metadata": {},
   "outputs": [
    {
     "data": {
      "text/plain": [
       "10"
      ]
     },
     "execution_count": 13,
     "metadata": {},
     "output_type": "execute_result"
    }
   ],
   "source": [
    "len(ovr_clf.estimators_)"
   ]
  },
  {
   "cell_type": "markdown",
   "metadata": {},
   "source": [
    "<br>\n",
    "<br>\n",
    "<br>\n",
    "\n",
    "-----\n",
    "### Stochatisc Descendent Classifier"
   ]
  },
  {
   "cell_type": "code",
   "execution_count": 17,
   "metadata": {},
   "outputs": [],
   "source": [
    "some_digit = X_test[:1]"
   ]
  },
  {
   "cell_type": "code",
   "execution_count": 15,
   "metadata": {},
   "outputs": [],
   "source": [
    "from sklearn.linear_model import SGDClassifier\n",
    "sgd_clf = SGDClassifier(random_state=42)"
   ]
  },
  {
   "cell_type": "code",
   "execution_count": 19,
   "metadata": {},
   "outputs": [
    {
     "data": {
      "text/plain": [
       "SGDClassifier(random_state=42)"
      ]
     },
     "execution_count": 19,
     "metadata": {},
     "output_type": "execute_result"
    }
   ],
   "source": [
    "sgd_clf.fit(X_train[:1000], y_train[:1000])"
   ]
  },
  {
   "cell_type": "code",
   "execution_count": 21,
   "metadata": {},
   "outputs": [
    {
     "data": {
      "text/plain": [
       "array([7], dtype=uint8)"
      ]
     },
     "execution_count": 21,
     "metadata": {},
     "output_type": "execute_result"
    }
   ],
   "source": [
    "sgd_clf.predict(some_digit)"
   ]
  },
  {
   "cell_type": "code",
   "execution_count": 22,
   "metadata": {},
   "outputs": [
    {
     "data": {
      "text/plain": [
       "array([[ -2523798.45804894, -11724109.03203037,  -1435338.01340555,\n",
       "         -1949321.83249115,  -3680354.32196714,  -3946274.93960771,\n",
       "         -8801153.91738122,   2872244.10888638,  -1546346.83991382,\n",
       "         -1654867.61994809]])"
      ]
     },
     "execution_count": 22,
     "metadata": {},
     "output_type": "execute_result"
    }
   ],
   "source": [
    "sgd_clf.decision_function(some_digit)"
   ]
  },
  {
   "cell_type": "code",
   "execution_count": 30,
   "metadata": {},
   "outputs": [],
   "source": [
    "from sklearn.model_selection import cross_val_score, cross_val_predict"
   ]
  },
  {
   "cell_type": "code",
   "execution_count": 26,
   "metadata": {},
   "outputs": [
    {
     "data": {
      "text/plain": [
       "array([0.83233533, 0.82882883, 0.79279279])"
      ]
     },
     "execution_count": 26,
     "metadata": {},
     "output_type": "execute_result"
    }
   ],
   "source": [
    "cross_val_score(sgd_clf, X_train[:1000], y_train[:1000], cv=3, scoring=\"accuracy\")"
   ]
  },
  {
   "cell_type": "code",
   "execution_count": 33,
   "metadata": {},
   "outputs": [
    {
     "data": {
      "text/plain": [
       "array([0.83532934, 0.81681682, 0.82882883])"
      ]
     },
     "execution_count": 33,
     "metadata": {},
     "output_type": "execute_result"
    }
   ],
   "source": [
    "from sklearn.preprocessing import StandardScaler\n",
    "scaler = StandardScaler()\n",
    "X_train_scaled = scaler.fit_transform(X_train[:1000].astype(np.float64))\n",
    "cross_val_score(sgd_clf, X_train_scaled, y_train[:1000], cv=3, scoring=\"accuracy\")"
   ]
  },
  {
   "cell_type": "markdown",
   "metadata": {},
   "source": [
    "<br>\n",
    "<br>\n",
    "<br>\n",
    "\n",
    "-----\n",
    "### Confusion Matrix"
   ]
  },
  {
   "cell_type": "code",
   "execution_count": 34,
   "metadata": {},
   "outputs": [
    {
     "data": {
      "text/plain": [
       "array([[ 95,   0,   1,   0,   0,   1,   0,   0,   0,   0],\n",
       "       [  0, 106,   2,   0,   0,   5,   1,   0,   1,   1],\n",
       "       [  1,   3,  76,   2,   3,   1,   4,   3,   5,   1],\n",
       "       [  1,   2,   5,  75,   0,   4,   0,   3,   0,   3],\n",
       "       [  0,   0,   0,   3,  90,   3,   1,   1,   2,   5],\n",
       "       [  1,   0,   2,   9,   2,  65,   2,   1,   8,   2],\n",
       "       [  2,   1,   3,   0,   2,   4,  82,   0,   0,   0],\n",
       "       [  0,   2,   3,   0,   3,   0,   0, 106,   0,   3],\n",
       "       [  2,   6,   2,   1,   0,   6,   2,   2,  64,   2],\n",
       "       [  3,   0,   2,   1,   7,   1,   0,  17,   1,  68]])"
      ]
     },
     "execution_count": 34,
     "metadata": {},
     "output_type": "execute_result"
    }
   ],
   "source": [
    "from sklearn.metrics import confusion_matrix\n",
    "y_train_pred = cross_val_predict(sgd_clf, X_train_scaled, y_train[:1000], cv=3)\n",
    "conf_mx = confusion_matrix(y_train[:1000], y_train_pred)\n",
    "conf_mx"
   ]
  },
  {
   "cell_type": "code",
   "execution_count": 38,
   "metadata": {},
   "outputs": [
    {
     "data": {
      "text/plain": [
       "array([0, 1, 2, 3, 4, 5, 6, 7, 8, 9], dtype=uint8)"
      ]
     },
     "execution_count": 38,
     "metadata": {},
     "output_type": "execute_result"
    }
   ],
   "source": [
    "sgd_clf.classes_"
   ]
  },
  {
   "cell_type": "code",
   "execution_count": 47,
   "metadata": {},
   "outputs": [
    {
     "data": {
      "text/html": [
       "<style  type=\"text/css\" >\n",
       "#T_7ab39fde_5386_11eb_9b6c_f96713096659row0_col0,#T_7ab39fde_5386_11eb_9b6c_f96713096659row1_col1,#T_7ab39fde_5386_11eb_9b6c_f96713096659row2_col2,#T_7ab39fde_5386_11eb_9b6c_f96713096659row3_col3,#T_7ab39fde_5386_11eb_9b6c_f96713096659row4_col4,#T_7ab39fde_5386_11eb_9b6c_f96713096659row5_col5,#T_7ab39fde_5386_11eb_9b6c_f96713096659row6_col6,#T_7ab39fde_5386_11eb_9b6c_f96713096659row7_col7,#T_7ab39fde_5386_11eb_9b6c_f96713096659row8_col8,#T_7ab39fde_5386_11eb_9b6c_f96713096659row9_col9{\n",
       "            background-color:  #08306b;\n",
       "            color:  #f1f1f1;\n",
       "        }#T_7ab39fde_5386_11eb_9b6c_f96713096659row0_col1,#T_7ab39fde_5386_11eb_9b6c_f96713096659row0_col3,#T_7ab39fde_5386_11eb_9b6c_f96713096659row0_col4,#T_7ab39fde_5386_11eb_9b6c_f96713096659row0_col6,#T_7ab39fde_5386_11eb_9b6c_f96713096659row0_col7,#T_7ab39fde_5386_11eb_9b6c_f96713096659row0_col8,#T_7ab39fde_5386_11eb_9b6c_f96713096659row0_col9,#T_7ab39fde_5386_11eb_9b6c_f96713096659row1_col0,#T_7ab39fde_5386_11eb_9b6c_f96713096659row1_col3,#T_7ab39fde_5386_11eb_9b6c_f96713096659row1_col4,#T_7ab39fde_5386_11eb_9b6c_f96713096659row1_col7,#T_7ab39fde_5386_11eb_9b6c_f96713096659row3_col4,#T_7ab39fde_5386_11eb_9b6c_f96713096659row3_col6,#T_7ab39fde_5386_11eb_9b6c_f96713096659row3_col8,#T_7ab39fde_5386_11eb_9b6c_f96713096659row4_col0,#T_7ab39fde_5386_11eb_9b6c_f96713096659row4_col1,#T_7ab39fde_5386_11eb_9b6c_f96713096659row4_col2,#T_7ab39fde_5386_11eb_9b6c_f96713096659row5_col1,#T_7ab39fde_5386_11eb_9b6c_f96713096659row6_col3,#T_7ab39fde_5386_11eb_9b6c_f96713096659row6_col7,#T_7ab39fde_5386_11eb_9b6c_f96713096659row6_col8,#T_7ab39fde_5386_11eb_9b6c_f96713096659row6_col9,#T_7ab39fde_5386_11eb_9b6c_f96713096659row7_col0,#T_7ab39fde_5386_11eb_9b6c_f96713096659row7_col3,#T_7ab39fde_5386_11eb_9b6c_f96713096659row7_col5,#T_7ab39fde_5386_11eb_9b6c_f96713096659row7_col6,#T_7ab39fde_5386_11eb_9b6c_f96713096659row7_col8,#T_7ab39fde_5386_11eb_9b6c_f96713096659row8_col4,#T_7ab39fde_5386_11eb_9b6c_f96713096659row9_col1,#T_7ab39fde_5386_11eb_9b6c_f96713096659row9_col6{\n",
       "            background-color:  #f7fbff;\n",
       "            color:  #000000;\n",
       "        }#T_7ab39fde_5386_11eb_9b6c_f96713096659row0_col2,#T_7ab39fde_5386_11eb_9b6c_f96713096659row0_col5,#T_7ab39fde_5386_11eb_9b6c_f96713096659row1_col6,#T_7ab39fde_5386_11eb_9b6c_f96713096659row1_col9,#T_7ab39fde_5386_11eb_9b6c_f96713096659row2_col5,#T_7ab39fde_5386_11eb_9b6c_f96713096659row2_col9,#T_7ab39fde_5386_11eb_9b6c_f96713096659row4_col6,#T_7ab39fde_5386_11eb_9b6c_f96713096659row8_col3,#T_7ab39fde_5386_11eb_9b6c_f96713096659row9_col3,#T_7ab39fde_5386_11eb_9b6c_f96713096659row9_col5{\n",
       "            background-color:  #f5f9fe;\n",
       "            color:  #000000;\n",
       "        }#T_7ab39fde_5386_11eb_9b6c_f96713096659row1_col2,#T_7ab39fde_5386_11eb_9b6c_f96713096659row2_col3,#T_7ab39fde_5386_11eb_9b6c_f96713096659row5_col2,#T_7ab39fde_5386_11eb_9b6c_f96713096659row5_col6,#T_7ab39fde_5386_11eb_9b6c_f96713096659row8_col2,#T_7ab39fde_5386_11eb_9b6c_f96713096659row8_col6,#T_7ab39fde_5386_11eb_9b6c_f96713096659row9_col2{\n",
       "            background-color:  #f2f8fd;\n",
       "            color:  #000000;\n",
       "        }#T_7ab39fde_5386_11eb_9b6c_f96713096659row1_col5,#T_7ab39fde_5386_11eb_9b6c_f96713096659row9_col4{\n",
       "            background-color:  #e8f1fa;\n",
       "            color:  #000000;\n",
       "        }#T_7ab39fde_5386_11eb_9b6c_f96713096659row1_col8,#T_7ab39fde_5386_11eb_9b6c_f96713096659row3_col1,#T_7ab39fde_5386_11eb_9b6c_f96713096659row7_col1,#T_7ab39fde_5386_11eb_9b6c_f96713096659row8_col7,#T_7ab39fde_5386_11eb_9b6c_f96713096659row9_col8{\n",
       "            background-color:  #f4f9fe;\n",
       "            color:  #000000;\n",
       "        }#T_7ab39fde_5386_11eb_9b6c_f96713096659row2_col0,#T_7ab39fde_5386_11eb_9b6c_f96713096659row3_col0,#T_7ab39fde_5386_11eb_9b6c_f96713096659row4_col7,#T_7ab39fde_5386_11eb_9b6c_f96713096659row5_col0,#T_7ab39fde_5386_11eb_9b6c_f96713096659row5_col7,#T_7ab39fde_5386_11eb_9b6c_f96713096659row6_col1{\n",
       "            background-color:  #f5fafe;\n",
       "            color:  #000000;\n",
       "        }#T_7ab39fde_5386_11eb_9b6c_f96713096659row2_col1,#T_7ab39fde_5386_11eb_9b6c_f96713096659row2_col7,#T_7ab39fde_5386_11eb_9b6c_f96713096659row3_col7,#T_7ab39fde_5386_11eb_9b6c_f96713096659row5_col9,#T_7ab39fde_5386_11eb_9b6c_f96713096659row8_col9{\n",
       "            background-color:  #f2f7fd;\n",
       "            color:  #000000;\n",
       "        }#T_7ab39fde_5386_11eb_9b6c_f96713096659row2_col4,#T_7ab39fde_5386_11eb_9b6c_f96713096659row4_col8,#T_7ab39fde_5386_11eb_9b6c_f96713096659row7_col4,#T_7ab39fde_5386_11eb_9b6c_f96713096659row9_col0{\n",
       "            background-color:  #f1f7fd;\n",
       "            color:  #000000;\n",
       "        }#T_7ab39fde_5386_11eb_9b6c_f96713096659row2_col6,#T_7ab39fde_5386_11eb_9b6c_f96713096659row3_col9,#T_7ab39fde_5386_11eb_9b6c_f96713096659row4_col5,#T_7ab39fde_5386_11eb_9b6c_f96713096659row7_col9{\n",
       "            background-color:  #eef5fc;\n",
       "            color:  #000000;\n",
       "        }#T_7ab39fde_5386_11eb_9b6c_f96713096659row2_col8{\n",
       "            background-color:  #e7f1fa;\n",
       "            color:  #000000;\n",
       "        }#T_7ab39fde_5386_11eb_9b6c_f96713096659row3_col2{\n",
       "            background-color:  #eaf3fb;\n",
       "            color:  #000000;\n",
       "        }#T_7ab39fde_5386_11eb_9b6c_f96713096659row3_col5,#T_7ab39fde_5386_11eb_9b6c_f96713096659row6_col5{\n",
       "            background-color:  #ebf3fb;\n",
       "            color:  #000000;\n",
       "        }#T_7ab39fde_5386_11eb_9b6c_f96713096659row4_col3,#T_7ab39fde_5386_11eb_9b6c_f96713096659row6_col2,#T_7ab39fde_5386_11eb_9b6c_f96713096659row7_col2{\n",
       "            background-color:  #eff6fc;\n",
       "            color:  #000000;\n",
       "        }#T_7ab39fde_5386_11eb_9b6c_f96713096659row4_col9{\n",
       "            background-color:  #e9f2fa;\n",
       "            color:  #000000;\n",
       "        }#T_7ab39fde_5386_11eb_9b6c_f96713096659row5_col3{\n",
       "            background-color:  #dfecf7;\n",
       "            color:  #000000;\n",
       "        }#T_7ab39fde_5386_11eb_9b6c_f96713096659row5_col4,#T_7ab39fde_5386_11eb_9b6c_f96713096659row6_col0,#T_7ab39fde_5386_11eb_9b6c_f96713096659row6_col4,#T_7ab39fde_5386_11eb_9b6c_f96713096659row8_col0{\n",
       "            background-color:  #f3f8fe;\n",
       "            color:  #000000;\n",
       "        }#T_7ab39fde_5386_11eb_9b6c_f96713096659row5_col8{\n",
       "            background-color:  #deebf7;\n",
       "            color:  #000000;\n",
       "        }#T_7ab39fde_5386_11eb_9b6c_f96713096659row8_col1{\n",
       "            background-color:  #ecf4fb;\n",
       "            color:  #000000;\n",
       "        }#T_7ab39fde_5386_11eb_9b6c_f96713096659row8_col5{\n",
       "            background-color:  #e5eff9;\n",
       "            color:  #000000;\n",
       "        }#T_7ab39fde_5386_11eb_9b6c_f96713096659row9_col7{\n",
       "            background-color:  #d7e6f5;\n",
       "            color:  #000000;\n",
       "        }</style><table id=\"T_7ab39fde_5386_11eb_9b6c_f96713096659\" ><thead>    <tr>        <th class=\"blank level0\" ></th>        <th class=\"col_heading level0 col0\" >0</th>        <th class=\"col_heading level0 col1\" >1</th>        <th class=\"col_heading level0 col2\" >2</th>        <th class=\"col_heading level0 col3\" >3</th>        <th class=\"col_heading level0 col4\" >4</th>        <th class=\"col_heading level0 col5\" >5</th>        <th class=\"col_heading level0 col6\" >6</th>        <th class=\"col_heading level0 col7\" >7</th>        <th class=\"col_heading level0 col8\" >8</th>        <th class=\"col_heading level0 col9\" >9</th>    </tr></thead><tbody>\n",
       "                <tr>\n",
       "                        <th id=\"T_7ab39fde_5386_11eb_9b6c_f96713096659level0_row0\" class=\"row_heading level0 row0\" >0</th>\n",
       "                        <td id=\"T_7ab39fde_5386_11eb_9b6c_f96713096659row0_col0\" class=\"data row0 col0\" >95</td>\n",
       "                        <td id=\"T_7ab39fde_5386_11eb_9b6c_f96713096659row0_col1\" class=\"data row0 col1\" >0</td>\n",
       "                        <td id=\"T_7ab39fde_5386_11eb_9b6c_f96713096659row0_col2\" class=\"data row0 col2\" >1</td>\n",
       "                        <td id=\"T_7ab39fde_5386_11eb_9b6c_f96713096659row0_col3\" class=\"data row0 col3\" >0</td>\n",
       "                        <td id=\"T_7ab39fde_5386_11eb_9b6c_f96713096659row0_col4\" class=\"data row0 col4\" >0</td>\n",
       "                        <td id=\"T_7ab39fde_5386_11eb_9b6c_f96713096659row0_col5\" class=\"data row0 col5\" >1</td>\n",
       "                        <td id=\"T_7ab39fde_5386_11eb_9b6c_f96713096659row0_col6\" class=\"data row0 col6\" >0</td>\n",
       "                        <td id=\"T_7ab39fde_5386_11eb_9b6c_f96713096659row0_col7\" class=\"data row0 col7\" >0</td>\n",
       "                        <td id=\"T_7ab39fde_5386_11eb_9b6c_f96713096659row0_col8\" class=\"data row0 col8\" >0</td>\n",
       "                        <td id=\"T_7ab39fde_5386_11eb_9b6c_f96713096659row0_col9\" class=\"data row0 col9\" >0</td>\n",
       "            </tr>\n",
       "            <tr>\n",
       "                        <th id=\"T_7ab39fde_5386_11eb_9b6c_f96713096659level0_row1\" class=\"row_heading level0 row1\" >1</th>\n",
       "                        <td id=\"T_7ab39fde_5386_11eb_9b6c_f96713096659row1_col0\" class=\"data row1 col0\" >0</td>\n",
       "                        <td id=\"T_7ab39fde_5386_11eb_9b6c_f96713096659row1_col1\" class=\"data row1 col1\" >106</td>\n",
       "                        <td id=\"T_7ab39fde_5386_11eb_9b6c_f96713096659row1_col2\" class=\"data row1 col2\" >2</td>\n",
       "                        <td id=\"T_7ab39fde_5386_11eb_9b6c_f96713096659row1_col3\" class=\"data row1 col3\" >0</td>\n",
       "                        <td id=\"T_7ab39fde_5386_11eb_9b6c_f96713096659row1_col4\" class=\"data row1 col4\" >0</td>\n",
       "                        <td id=\"T_7ab39fde_5386_11eb_9b6c_f96713096659row1_col5\" class=\"data row1 col5\" >5</td>\n",
       "                        <td id=\"T_7ab39fde_5386_11eb_9b6c_f96713096659row1_col6\" class=\"data row1 col6\" >1</td>\n",
       "                        <td id=\"T_7ab39fde_5386_11eb_9b6c_f96713096659row1_col7\" class=\"data row1 col7\" >0</td>\n",
       "                        <td id=\"T_7ab39fde_5386_11eb_9b6c_f96713096659row1_col8\" class=\"data row1 col8\" >1</td>\n",
       "                        <td id=\"T_7ab39fde_5386_11eb_9b6c_f96713096659row1_col9\" class=\"data row1 col9\" >1</td>\n",
       "            </tr>\n",
       "            <tr>\n",
       "                        <th id=\"T_7ab39fde_5386_11eb_9b6c_f96713096659level0_row2\" class=\"row_heading level0 row2\" >2</th>\n",
       "                        <td id=\"T_7ab39fde_5386_11eb_9b6c_f96713096659row2_col0\" class=\"data row2 col0\" >1</td>\n",
       "                        <td id=\"T_7ab39fde_5386_11eb_9b6c_f96713096659row2_col1\" class=\"data row2 col1\" >3</td>\n",
       "                        <td id=\"T_7ab39fde_5386_11eb_9b6c_f96713096659row2_col2\" class=\"data row2 col2\" >76</td>\n",
       "                        <td id=\"T_7ab39fde_5386_11eb_9b6c_f96713096659row2_col3\" class=\"data row2 col3\" >2</td>\n",
       "                        <td id=\"T_7ab39fde_5386_11eb_9b6c_f96713096659row2_col4\" class=\"data row2 col4\" >3</td>\n",
       "                        <td id=\"T_7ab39fde_5386_11eb_9b6c_f96713096659row2_col5\" class=\"data row2 col5\" >1</td>\n",
       "                        <td id=\"T_7ab39fde_5386_11eb_9b6c_f96713096659row2_col6\" class=\"data row2 col6\" >4</td>\n",
       "                        <td id=\"T_7ab39fde_5386_11eb_9b6c_f96713096659row2_col7\" class=\"data row2 col7\" >3</td>\n",
       "                        <td id=\"T_7ab39fde_5386_11eb_9b6c_f96713096659row2_col8\" class=\"data row2 col8\" >5</td>\n",
       "                        <td id=\"T_7ab39fde_5386_11eb_9b6c_f96713096659row2_col9\" class=\"data row2 col9\" >1</td>\n",
       "            </tr>\n",
       "            <tr>\n",
       "                        <th id=\"T_7ab39fde_5386_11eb_9b6c_f96713096659level0_row3\" class=\"row_heading level0 row3\" >3</th>\n",
       "                        <td id=\"T_7ab39fde_5386_11eb_9b6c_f96713096659row3_col0\" class=\"data row3 col0\" >1</td>\n",
       "                        <td id=\"T_7ab39fde_5386_11eb_9b6c_f96713096659row3_col1\" class=\"data row3 col1\" >2</td>\n",
       "                        <td id=\"T_7ab39fde_5386_11eb_9b6c_f96713096659row3_col2\" class=\"data row3 col2\" >5</td>\n",
       "                        <td id=\"T_7ab39fde_5386_11eb_9b6c_f96713096659row3_col3\" class=\"data row3 col3\" >75</td>\n",
       "                        <td id=\"T_7ab39fde_5386_11eb_9b6c_f96713096659row3_col4\" class=\"data row3 col4\" >0</td>\n",
       "                        <td id=\"T_7ab39fde_5386_11eb_9b6c_f96713096659row3_col5\" class=\"data row3 col5\" >4</td>\n",
       "                        <td id=\"T_7ab39fde_5386_11eb_9b6c_f96713096659row3_col6\" class=\"data row3 col6\" >0</td>\n",
       "                        <td id=\"T_7ab39fde_5386_11eb_9b6c_f96713096659row3_col7\" class=\"data row3 col7\" >3</td>\n",
       "                        <td id=\"T_7ab39fde_5386_11eb_9b6c_f96713096659row3_col8\" class=\"data row3 col8\" >0</td>\n",
       "                        <td id=\"T_7ab39fde_5386_11eb_9b6c_f96713096659row3_col9\" class=\"data row3 col9\" >3</td>\n",
       "            </tr>\n",
       "            <tr>\n",
       "                        <th id=\"T_7ab39fde_5386_11eb_9b6c_f96713096659level0_row4\" class=\"row_heading level0 row4\" >4</th>\n",
       "                        <td id=\"T_7ab39fde_5386_11eb_9b6c_f96713096659row4_col0\" class=\"data row4 col0\" >0</td>\n",
       "                        <td id=\"T_7ab39fde_5386_11eb_9b6c_f96713096659row4_col1\" class=\"data row4 col1\" >0</td>\n",
       "                        <td id=\"T_7ab39fde_5386_11eb_9b6c_f96713096659row4_col2\" class=\"data row4 col2\" >0</td>\n",
       "                        <td id=\"T_7ab39fde_5386_11eb_9b6c_f96713096659row4_col3\" class=\"data row4 col3\" >3</td>\n",
       "                        <td id=\"T_7ab39fde_5386_11eb_9b6c_f96713096659row4_col4\" class=\"data row4 col4\" >90</td>\n",
       "                        <td id=\"T_7ab39fde_5386_11eb_9b6c_f96713096659row4_col5\" class=\"data row4 col5\" >3</td>\n",
       "                        <td id=\"T_7ab39fde_5386_11eb_9b6c_f96713096659row4_col6\" class=\"data row4 col6\" >1</td>\n",
       "                        <td id=\"T_7ab39fde_5386_11eb_9b6c_f96713096659row4_col7\" class=\"data row4 col7\" >1</td>\n",
       "                        <td id=\"T_7ab39fde_5386_11eb_9b6c_f96713096659row4_col8\" class=\"data row4 col8\" >2</td>\n",
       "                        <td id=\"T_7ab39fde_5386_11eb_9b6c_f96713096659row4_col9\" class=\"data row4 col9\" >5</td>\n",
       "            </tr>\n",
       "            <tr>\n",
       "                        <th id=\"T_7ab39fde_5386_11eb_9b6c_f96713096659level0_row5\" class=\"row_heading level0 row5\" >5</th>\n",
       "                        <td id=\"T_7ab39fde_5386_11eb_9b6c_f96713096659row5_col0\" class=\"data row5 col0\" >1</td>\n",
       "                        <td id=\"T_7ab39fde_5386_11eb_9b6c_f96713096659row5_col1\" class=\"data row5 col1\" >0</td>\n",
       "                        <td id=\"T_7ab39fde_5386_11eb_9b6c_f96713096659row5_col2\" class=\"data row5 col2\" >2</td>\n",
       "                        <td id=\"T_7ab39fde_5386_11eb_9b6c_f96713096659row5_col3\" class=\"data row5 col3\" >9</td>\n",
       "                        <td id=\"T_7ab39fde_5386_11eb_9b6c_f96713096659row5_col4\" class=\"data row5 col4\" >2</td>\n",
       "                        <td id=\"T_7ab39fde_5386_11eb_9b6c_f96713096659row5_col5\" class=\"data row5 col5\" >65</td>\n",
       "                        <td id=\"T_7ab39fde_5386_11eb_9b6c_f96713096659row5_col6\" class=\"data row5 col6\" >2</td>\n",
       "                        <td id=\"T_7ab39fde_5386_11eb_9b6c_f96713096659row5_col7\" class=\"data row5 col7\" >1</td>\n",
       "                        <td id=\"T_7ab39fde_5386_11eb_9b6c_f96713096659row5_col8\" class=\"data row5 col8\" >8</td>\n",
       "                        <td id=\"T_7ab39fde_5386_11eb_9b6c_f96713096659row5_col9\" class=\"data row5 col9\" >2</td>\n",
       "            </tr>\n",
       "            <tr>\n",
       "                        <th id=\"T_7ab39fde_5386_11eb_9b6c_f96713096659level0_row6\" class=\"row_heading level0 row6\" >6</th>\n",
       "                        <td id=\"T_7ab39fde_5386_11eb_9b6c_f96713096659row6_col0\" class=\"data row6 col0\" >2</td>\n",
       "                        <td id=\"T_7ab39fde_5386_11eb_9b6c_f96713096659row6_col1\" class=\"data row6 col1\" >1</td>\n",
       "                        <td id=\"T_7ab39fde_5386_11eb_9b6c_f96713096659row6_col2\" class=\"data row6 col2\" >3</td>\n",
       "                        <td id=\"T_7ab39fde_5386_11eb_9b6c_f96713096659row6_col3\" class=\"data row6 col3\" >0</td>\n",
       "                        <td id=\"T_7ab39fde_5386_11eb_9b6c_f96713096659row6_col4\" class=\"data row6 col4\" >2</td>\n",
       "                        <td id=\"T_7ab39fde_5386_11eb_9b6c_f96713096659row6_col5\" class=\"data row6 col5\" >4</td>\n",
       "                        <td id=\"T_7ab39fde_5386_11eb_9b6c_f96713096659row6_col6\" class=\"data row6 col6\" >82</td>\n",
       "                        <td id=\"T_7ab39fde_5386_11eb_9b6c_f96713096659row6_col7\" class=\"data row6 col7\" >0</td>\n",
       "                        <td id=\"T_7ab39fde_5386_11eb_9b6c_f96713096659row6_col8\" class=\"data row6 col8\" >0</td>\n",
       "                        <td id=\"T_7ab39fde_5386_11eb_9b6c_f96713096659row6_col9\" class=\"data row6 col9\" >0</td>\n",
       "            </tr>\n",
       "            <tr>\n",
       "                        <th id=\"T_7ab39fde_5386_11eb_9b6c_f96713096659level0_row7\" class=\"row_heading level0 row7\" >7</th>\n",
       "                        <td id=\"T_7ab39fde_5386_11eb_9b6c_f96713096659row7_col0\" class=\"data row7 col0\" >0</td>\n",
       "                        <td id=\"T_7ab39fde_5386_11eb_9b6c_f96713096659row7_col1\" class=\"data row7 col1\" >2</td>\n",
       "                        <td id=\"T_7ab39fde_5386_11eb_9b6c_f96713096659row7_col2\" class=\"data row7 col2\" >3</td>\n",
       "                        <td id=\"T_7ab39fde_5386_11eb_9b6c_f96713096659row7_col3\" class=\"data row7 col3\" >0</td>\n",
       "                        <td id=\"T_7ab39fde_5386_11eb_9b6c_f96713096659row7_col4\" class=\"data row7 col4\" >3</td>\n",
       "                        <td id=\"T_7ab39fde_5386_11eb_9b6c_f96713096659row7_col5\" class=\"data row7 col5\" >0</td>\n",
       "                        <td id=\"T_7ab39fde_5386_11eb_9b6c_f96713096659row7_col6\" class=\"data row7 col6\" >0</td>\n",
       "                        <td id=\"T_7ab39fde_5386_11eb_9b6c_f96713096659row7_col7\" class=\"data row7 col7\" >106</td>\n",
       "                        <td id=\"T_7ab39fde_5386_11eb_9b6c_f96713096659row7_col8\" class=\"data row7 col8\" >0</td>\n",
       "                        <td id=\"T_7ab39fde_5386_11eb_9b6c_f96713096659row7_col9\" class=\"data row7 col9\" >3</td>\n",
       "            </tr>\n",
       "            <tr>\n",
       "                        <th id=\"T_7ab39fde_5386_11eb_9b6c_f96713096659level0_row8\" class=\"row_heading level0 row8\" >8</th>\n",
       "                        <td id=\"T_7ab39fde_5386_11eb_9b6c_f96713096659row8_col0\" class=\"data row8 col0\" >2</td>\n",
       "                        <td id=\"T_7ab39fde_5386_11eb_9b6c_f96713096659row8_col1\" class=\"data row8 col1\" >6</td>\n",
       "                        <td id=\"T_7ab39fde_5386_11eb_9b6c_f96713096659row8_col2\" class=\"data row8 col2\" >2</td>\n",
       "                        <td id=\"T_7ab39fde_5386_11eb_9b6c_f96713096659row8_col3\" class=\"data row8 col3\" >1</td>\n",
       "                        <td id=\"T_7ab39fde_5386_11eb_9b6c_f96713096659row8_col4\" class=\"data row8 col4\" >0</td>\n",
       "                        <td id=\"T_7ab39fde_5386_11eb_9b6c_f96713096659row8_col5\" class=\"data row8 col5\" >6</td>\n",
       "                        <td id=\"T_7ab39fde_5386_11eb_9b6c_f96713096659row8_col6\" class=\"data row8 col6\" >2</td>\n",
       "                        <td id=\"T_7ab39fde_5386_11eb_9b6c_f96713096659row8_col7\" class=\"data row8 col7\" >2</td>\n",
       "                        <td id=\"T_7ab39fde_5386_11eb_9b6c_f96713096659row8_col8\" class=\"data row8 col8\" >64</td>\n",
       "                        <td id=\"T_7ab39fde_5386_11eb_9b6c_f96713096659row8_col9\" class=\"data row8 col9\" >2</td>\n",
       "            </tr>\n",
       "            <tr>\n",
       "                        <th id=\"T_7ab39fde_5386_11eb_9b6c_f96713096659level0_row9\" class=\"row_heading level0 row9\" >9</th>\n",
       "                        <td id=\"T_7ab39fde_5386_11eb_9b6c_f96713096659row9_col0\" class=\"data row9 col0\" >3</td>\n",
       "                        <td id=\"T_7ab39fde_5386_11eb_9b6c_f96713096659row9_col1\" class=\"data row9 col1\" >0</td>\n",
       "                        <td id=\"T_7ab39fde_5386_11eb_9b6c_f96713096659row9_col2\" class=\"data row9 col2\" >2</td>\n",
       "                        <td id=\"T_7ab39fde_5386_11eb_9b6c_f96713096659row9_col3\" class=\"data row9 col3\" >1</td>\n",
       "                        <td id=\"T_7ab39fde_5386_11eb_9b6c_f96713096659row9_col4\" class=\"data row9 col4\" >7</td>\n",
       "                        <td id=\"T_7ab39fde_5386_11eb_9b6c_f96713096659row9_col5\" class=\"data row9 col5\" >1</td>\n",
       "                        <td id=\"T_7ab39fde_5386_11eb_9b6c_f96713096659row9_col6\" class=\"data row9 col6\" >0</td>\n",
       "                        <td id=\"T_7ab39fde_5386_11eb_9b6c_f96713096659row9_col7\" class=\"data row9 col7\" >17</td>\n",
       "                        <td id=\"T_7ab39fde_5386_11eb_9b6c_f96713096659row9_col8\" class=\"data row9 col8\" >1</td>\n",
       "                        <td id=\"T_7ab39fde_5386_11eb_9b6c_f96713096659row9_col9\" class=\"data row9 col9\" >68</td>\n",
       "            </tr>\n",
       "    </tbody></table>"
      ],
      "text/plain": [
       "<pandas.io.formats.style.Styler at 0x7f3468c088b0>"
      ]
     },
     "execution_count": 47,
     "metadata": {},
     "output_type": "execute_result"
    }
   ],
   "source": [
    "pd.DataFrame(conf_mx,\n",
    "             columns = sgd_clf.classes_,\n",
    "             index = sgd_clf.classes_)\\\n",
    ".style\\\n",
    ".background_gradient(cmap=\"Blues\")"
   ]
  },
  {
   "cell_type": "code",
   "execution_count": 62,
   "metadata": {},
   "outputs": [],
   "source": [
    "row_sums = conf_mx.sum(axis=1, keepdims=True)\n",
    "norm_conf_mx = conf_mx / row_sums\n",
    "np.fill_diagonal(norm_conf_mx, 0)"
   ]
  },
  {
   "cell_type": "code",
   "execution_count": 68,
   "metadata": {},
   "outputs": [
    {
     "data": {
      "text/html": [
       "<style  type=\"text/css\" >\n",
       "#T_77fbae3e_5387_11eb_9b6c_f96713096659row0_col0,#T_77fbae3e_5387_11eb_9b6c_f96713096659row0_col1,#T_77fbae3e_5387_11eb_9b6c_f96713096659row0_col3,#T_77fbae3e_5387_11eb_9b6c_f96713096659row0_col4,#T_77fbae3e_5387_11eb_9b6c_f96713096659row0_col6,#T_77fbae3e_5387_11eb_9b6c_f96713096659row0_col7,#T_77fbae3e_5387_11eb_9b6c_f96713096659row0_col8,#T_77fbae3e_5387_11eb_9b6c_f96713096659row0_col9,#T_77fbae3e_5387_11eb_9b6c_f96713096659row1_col0,#T_77fbae3e_5387_11eb_9b6c_f96713096659row1_col1,#T_77fbae3e_5387_11eb_9b6c_f96713096659row1_col3,#T_77fbae3e_5387_11eb_9b6c_f96713096659row1_col4,#T_77fbae3e_5387_11eb_9b6c_f96713096659row1_col7,#T_77fbae3e_5387_11eb_9b6c_f96713096659row2_col2,#T_77fbae3e_5387_11eb_9b6c_f96713096659row3_col3,#T_77fbae3e_5387_11eb_9b6c_f96713096659row3_col4,#T_77fbae3e_5387_11eb_9b6c_f96713096659row3_col6,#T_77fbae3e_5387_11eb_9b6c_f96713096659row3_col8,#T_77fbae3e_5387_11eb_9b6c_f96713096659row4_col0,#T_77fbae3e_5387_11eb_9b6c_f96713096659row4_col1,#T_77fbae3e_5387_11eb_9b6c_f96713096659row4_col2,#T_77fbae3e_5387_11eb_9b6c_f96713096659row4_col4,#T_77fbae3e_5387_11eb_9b6c_f96713096659row5_col1,#T_77fbae3e_5387_11eb_9b6c_f96713096659row5_col5,#T_77fbae3e_5387_11eb_9b6c_f96713096659row6_col3,#T_77fbae3e_5387_11eb_9b6c_f96713096659row6_col6,#T_77fbae3e_5387_11eb_9b6c_f96713096659row6_col7,#T_77fbae3e_5387_11eb_9b6c_f96713096659row6_col8,#T_77fbae3e_5387_11eb_9b6c_f96713096659row6_col9,#T_77fbae3e_5387_11eb_9b6c_f96713096659row7_col0,#T_77fbae3e_5387_11eb_9b6c_f96713096659row7_col3,#T_77fbae3e_5387_11eb_9b6c_f96713096659row7_col5,#T_77fbae3e_5387_11eb_9b6c_f96713096659row7_col6,#T_77fbae3e_5387_11eb_9b6c_f96713096659row7_col7,#T_77fbae3e_5387_11eb_9b6c_f96713096659row7_col8,#T_77fbae3e_5387_11eb_9b6c_f96713096659row8_col4,#T_77fbae3e_5387_11eb_9b6c_f96713096659row8_col8,#T_77fbae3e_5387_11eb_9b6c_f96713096659row9_col1,#T_77fbae3e_5387_11eb_9b6c_f96713096659row9_col6,#T_77fbae3e_5387_11eb_9b6c_f96713096659row9_col9{\n",
       "            background-color:  #f7fbff;\n",
       "            color:  #000000;\n",
       "        }#T_77fbae3e_5387_11eb_9b6c_f96713096659row0_col2{\n",
       "            background-color:  #d1e2f3;\n",
       "            color:  #000000;\n",
       "        }#T_77fbae3e_5387_11eb_9b6c_f96713096659row0_col5{\n",
       "            background-color:  #d9e8f5;\n",
       "            color:  #000000;\n",
       "        }#T_77fbae3e_5387_11eb_9b6c_f96713096659row1_col2{\n",
       "            background-color:  #afd1e7;\n",
       "            color:  #000000;\n",
       "        }#T_77fbae3e_5387_11eb_9b6c_f96713096659row1_col5{\n",
       "            background-color:  #4191c6;\n",
       "            color:  #000000;\n",
       "        }#T_77fbae3e_5387_11eb_9b6c_f96713096659row1_col6,#T_77fbae3e_5387_11eb_9b6c_f96713096659row2_col9{\n",
       "            background-color:  #cde0f1;\n",
       "            color:  #000000;\n",
       "        }#T_77fbae3e_5387_11eb_9b6c_f96713096659row1_col8{\n",
       "            background-color:  #e3eef9;\n",
       "            color:  #000000;\n",
       "        }#T_77fbae3e_5387_11eb_9b6c_f96713096659row1_col9{\n",
       "            background-color:  #d3e4f3;\n",
       "            color:  #000000;\n",
       "        }#T_77fbae3e_5387_11eb_9b6c_f96713096659row2_col0{\n",
       "            background-color:  #aacfe5;\n",
       "            color:  #000000;\n",
       "        }#T_77fbae3e_5387_11eb_9b6c_f96713096659row2_col1{\n",
       "            background-color:  #84bcdb;\n",
       "            color:  #000000;\n",
       "        }#T_77fbae3e_5387_11eb_9b6c_f96713096659row2_col3{\n",
       "            background-color:  #cfe1f2;\n",
       "            color:  #000000;\n",
       "        }#T_77fbae3e_5387_11eb_9b6c_f96713096659row2_col4{\n",
       "            background-color:  #87bddc;\n",
       "            color:  #000000;\n",
       "        }#T_77fbae3e_5387_11eb_9b6c_f96713096659row2_col5,#T_77fbae3e_5387_11eb_9b6c_f96713096659row9_col5{\n",
       "            background-color:  #dae8f6;\n",
       "            color:  #000000;\n",
       "        }#T_77fbae3e_5387_11eb_9b6c_f96713096659row2_col6,#T_77fbae3e_5387_11eb_9b6c_f96713096659row3_col2,#T_77fbae3e_5387_11eb_9b6c_f96713096659row4_col9,#T_77fbae3e_5387_11eb_9b6c_f96713096659row5_col3,#T_77fbae3e_5387_11eb_9b6c_f96713096659row5_col8,#T_77fbae3e_5387_11eb_9b6c_f96713096659row8_col1,#T_77fbae3e_5387_11eb_9b6c_f96713096659row8_col5,#T_77fbae3e_5387_11eb_9b6c_f96713096659row9_col0,#T_77fbae3e_5387_11eb_9b6c_f96713096659row9_col4,#T_77fbae3e_5387_11eb_9b6c_f96713096659row9_col7{\n",
       "            background-color:  #08306b;\n",
       "            color:  #f1f1f1;\n",
       "        }#T_77fbae3e_5387_11eb_9b6c_f96713096659row2_col7{\n",
       "            background-color:  #d4e4f4;\n",
       "            color:  #000000;\n",
       "        }#T_77fbae3e_5387_11eb_9b6c_f96713096659row2_col8{\n",
       "            background-color:  #519ccc;\n",
       "            color:  #000000;\n",
       "        }#T_77fbae3e_5387_11eb_9b6c_f96713096659row3_col0{\n",
       "            background-color:  #a4cce3;\n",
       "            color:  #000000;\n",
       "        }#T_77fbae3e_5387_11eb_9b6c_f96713096659row3_col1,#T_77fbae3e_5387_11eb_9b6c_f96713096659row5_col4{\n",
       "            background-color:  #b3d3e8;\n",
       "            color:  #000000;\n",
       "        }#T_77fbae3e_5387_11eb_9b6c_f96713096659row3_col5{\n",
       "            background-color:  #4292c6;\n",
       "            color:  #000000;\n",
       "        }#T_77fbae3e_5387_11eb_9b6c_f96713096659row3_col7{\n",
       "            background-color:  #d2e3f3;\n",
       "            color:  #000000;\n",
       "        }#T_77fbae3e_5387_11eb_9b6c_f96713096659row3_col9{\n",
       "            background-color:  #3484bf;\n",
       "            color:  #000000;\n",
       "        }#T_77fbae3e_5387_11eb_9b6c_f96713096659row4_col3{\n",
       "            background-color:  #b9d6ea;\n",
       "            color:  #000000;\n",
       "        }#T_77fbae3e_5387_11eb_9b6c_f96713096659row4_col5{\n",
       "            background-color:  #8dc1dd;\n",
       "            color:  #000000;\n",
       "        }#T_77fbae3e_5387_11eb_9b6c_f96713096659row4_col6{\n",
       "            background-color:  #c9ddf0;\n",
       "            color:  #000000;\n",
       "        }#T_77fbae3e_5387_11eb_9b6c_f96713096659row4_col7{\n",
       "            background-color:  #ecf4fb;\n",
       "            color:  #000000;\n",
       "        }#T_77fbae3e_5387_11eb_9b6c_f96713096659row4_col8{\n",
       "            background-color:  #ccdff1;\n",
       "            color:  #000000;\n",
       "        }#T_77fbae3e_5387_11eb_9b6c_f96713096659row5_col0{\n",
       "            background-color:  #a3cce3;\n",
       "            color:  #000000;\n",
       "        }#T_77fbae3e_5387_11eb_9b6c_f96713096659row5_col2{\n",
       "            background-color:  #92c4de;\n",
       "            color:  #000000;\n",
       "        }#T_77fbae3e_5387_11eb_9b6c_f96713096659row5_col6,#T_77fbae3e_5387_11eb_9b6c_f96713096659row7_col9{\n",
       "            background-color:  #5fa6d1;\n",
       "            color:  #000000;\n",
       "        }#T_77fbae3e_5387_11eb_9b6c_f96713096659row5_col7{\n",
       "            background-color:  #eaf3fb;\n",
       "            color:  #000000;\n",
       "        }#T_77fbae3e_5387_11eb_9b6c_f96713096659row5_col9{\n",
       "            background-color:  #7db8da;\n",
       "            color:  #000000;\n",
       "        }#T_77fbae3e_5387_11eb_9b6c_f96713096659row6_col0{\n",
       "            background-color:  #2c7cba;\n",
       "            color:  #000000;\n",
       "        }#T_77fbae3e_5387_11eb_9b6c_f96713096659row6_col1{\n",
       "            background-color:  #d9e7f5;\n",
       "            color:  #000000;\n",
       "        }#T_77fbae3e_5387_11eb_9b6c_f96713096659row6_col2{\n",
       "            background-color:  #4d99ca;\n",
       "            color:  #000000;\n",
       "        }#T_77fbae3e_5387_11eb_9b6c_f96713096659row6_col4{\n",
       "            background-color:  #b5d4e9;\n",
       "            color:  #000000;\n",
       "        }#T_77fbae3e_5387_11eb_9b6c_f96713096659row6_col5{\n",
       "            background-color:  #4594c7;\n",
       "            color:  #000000;\n",
       "        }#T_77fbae3e_5387_11eb_9b6c_f96713096659row7_col1{\n",
       "            background-color:  #c7dbef;\n",
       "            color:  #000000;\n",
       "        }#T_77fbae3e_5387_11eb_9b6c_f96713096659row7_col2{\n",
       "            background-color:  #74b3d8;\n",
       "            color:  #000000;\n",
       "        }#T_77fbae3e_5387_11eb_9b6c_f96713096659row7_col4{\n",
       "            background-color:  #a1cbe2;\n",
       "            color:  #000000;\n",
       "        }#T_77fbae3e_5387_11eb_9b6c_f96713096659row8_col0{\n",
       "            background-color:  #1d6cb1;\n",
       "            color:  #f1f1f1;\n",
       "        }#T_77fbae3e_5387_11eb_9b6c_f96713096659row8_col2{\n",
       "            background-color:  #89bedc;\n",
       "            color:  #000000;\n",
       "        }#T_77fbae3e_5387_11eb_9b6c_f96713096659row8_col3{\n",
       "            background-color:  #dfecf7;\n",
       "            color:  #000000;\n",
       "        }#T_77fbae3e_5387_11eb_9b6c_f96713096659row8_col6{\n",
       "            background-color:  #549fcd;\n",
       "            color:  #000000;\n",
       "        }#T_77fbae3e_5387_11eb_9b6c_f96713096659row8_col7{\n",
       "            background-color:  #dceaf6;\n",
       "            color:  #000000;\n",
       "        }#T_77fbae3e_5387_11eb_9b6c_f96713096659row8_col9{\n",
       "            background-color:  #72b2d8;\n",
       "            color:  #000000;\n",
       "        }#T_77fbae3e_5387_11eb_9b6c_f96713096659row9_col2{\n",
       "            background-color:  #9fcae1;\n",
       "            color:  #000000;\n",
       "        }#T_77fbae3e_5387_11eb_9b6c_f96713096659row9_col3{\n",
       "            background-color:  #e3eef8;\n",
       "            color:  #000000;\n",
       "        }#T_77fbae3e_5387_11eb_9b6c_f96713096659row9_col8{\n",
       "            background-color:  #e0ecf8;\n",
       "            color:  #000000;\n",
       "        }</style><table id=\"T_77fbae3e_5387_11eb_9b6c_f96713096659\" ><thead>    <tr>        <th class=\"blank level0\" ></th>        <th class=\"col_heading level0 col0\" >0</th>        <th class=\"col_heading level0 col1\" >1</th>        <th class=\"col_heading level0 col2\" >2</th>        <th class=\"col_heading level0 col3\" >3</th>        <th class=\"col_heading level0 col4\" >4</th>        <th class=\"col_heading level0 col5\" >5</th>        <th class=\"col_heading level0 col6\" >6</th>        <th class=\"col_heading level0 col7\" >7</th>        <th class=\"col_heading level0 col8\" >8</th>        <th class=\"col_heading level0 col9\" >9</th>    </tr></thead><tbody>\n",
       "                <tr>\n",
       "                        <th id=\"T_77fbae3e_5387_11eb_9b6c_f96713096659level0_row0\" class=\"row_heading level0 row0\" >0</th>\n",
       "                        <td id=\"T_77fbae3e_5387_11eb_9b6c_f96713096659row0_col0\" class=\"data row0 col0\" >0.0</td>\n",
       "                        <td id=\"T_77fbae3e_5387_11eb_9b6c_f96713096659row0_col1\" class=\"data row0 col1\" >0.0</td>\n",
       "                        <td id=\"T_77fbae3e_5387_11eb_9b6c_f96713096659row0_col2\" class=\"data row0 col2\" >0.01</td>\n",
       "                        <td id=\"T_77fbae3e_5387_11eb_9b6c_f96713096659row0_col3\" class=\"data row0 col3\" >0.0</td>\n",
       "                        <td id=\"T_77fbae3e_5387_11eb_9b6c_f96713096659row0_col4\" class=\"data row0 col4\" >0.0</td>\n",
       "                        <td id=\"T_77fbae3e_5387_11eb_9b6c_f96713096659row0_col5\" class=\"data row0 col5\" >0.01</td>\n",
       "                        <td id=\"T_77fbae3e_5387_11eb_9b6c_f96713096659row0_col6\" class=\"data row0 col6\" >0.0</td>\n",
       "                        <td id=\"T_77fbae3e_5387_11eb_9b6c_f96713096659row0_col7\" class=\"data row0 col7\" >0.0</td>\n",
       "                        <td id=\"T_77fbae3e_5387_11eb_9b6c_f96713096659row0_col8\" class=\"data row0 col8\" >0.0</td>\n",
       "                        <td id=\"T_77fbae3e_5387_11eb_9b6c_f96713096659row0_col9\" class=\"data row0 col9\" >0.0</td>\n",
       "            </tr>\n",
       "            <tr>\n",
       "                        <th id=\"T_77fbae3e_5387_11eb_9b6c_f96713096659level0_row1\" class=\"row_heading level0 row1\" >1</th>\n",
       "                        <td id=\"T_77fbae3e_5387_11eb_9b6c_f96713096659row1_col0\" class=\"data row1 col0\" >0.0</td>\n",
       "                        <td id=\"T_77fbae3e_5387_11eb_9b6c_f96713096659row1_col1\" class=\"data row1 col1\" >0.0</td>\n",
       "                        <td id=\"T_77fbae3e_5387_11eb_9b6c_f96713096659row1_col2\" class=\"data row1 col2\" >0.017</td>\n",
       "                        <td id=\"T_77fbae3e_5387_11eb_9b6c_f96713096659row1_col3\" class=\"data row1 col3\" >0.0</td>\n",
       "                        <td id=\"T_77fbae3e_5387_11eb_9b6c_f96713096659row1_col4\" class=\"data row1 col4\" >0.0</td>\n",
       "                        <td id=\"T_77fbae3e_5387_11eb_9b6c_f96713096659row1_col5\" class=\"data row1 col5\" >0.043</td>\n",
       "                        <td id=\"T_77fbae3e_5387_11eb_9b6c_f96713096659row1_col6\" class=\"data row1 col6\" >0.0086</td>\n",
       "                        <td id=\"T_77fbae3e_5387_11eb_9b6c_f96713096659row1_col7\" class=\"data row1 col7\" >0.0</td>\n",
       "                        <td id=\"T_77fbae3e_5387_11eb_9b6c_f96713096659row1_col8\" class=\"data row1 col8\" >0.0086</td>\n",
       "                        <td id=\"T_77fbae3e_5387_11eb_9b6c_f96713096659row1_col9\" class=\"data row1 col9\" >0.0086</td>\n",
       "            </tr>\n",
       "            <tr>\n",
       "                        <th id=\"T_77fbae3e_5387_11eb_9b6c_f96713096659level0_row2\" class=\"row_heading level0 row2\" >2</th>\n",
       "                        <td id=\"T_77fbae3e_5387_11eb_9b6c_f96713096659row2_col0\" class=\"data row2 col0\" >0.01</td>\n",
       "                        <td id=\"T_77fbae3e_5387_11eb_9b6c_f96713096659row2_col1\" class=\"data row2 col1\" >0.03</td>\n",
       "                        <td id=\"T_77fbae3e_5387_11eb_9b6c_f96713096659row2_col2\" class=\"data row2 col2\" >0.0</td>\n",
       "                        <td id=\"T_77fbae3e_5387_11eb_9b6c_f96713096659row2_col3\" class=\"data row2 col3\" >0.02</td>\n",
       "                        <td id=\"T_77fbae3e_5387_11eb_9b6c_f96713096659row2_col4\" class=\"data row2 col4\" >0.03</td>\n",
       "                        <td id=\"T_77fbae3e_5387_11eb_9b6c_f96713096659row2_col5\" class=\"data row2 col5\" >0.01</td>\n",
       "                        <td id=\"T_77fbae3e_5387_11eb_9b6c_f96713096659row2_col6\" class=\"data row2 col6\" >0.04</td>\n",
       "                        <td id=\"T_77fbae3e_5387_11eb_9b6c_f96713096659row2_col7\" class=\"data row2 col7\" >0.03</td>\n",
       "                        <td id=\"T_77fbae3e_5387_11eb_9b6c_f96713096659row2_col8\" class=\"data row2 col8\" >0.051</td>\n",
       "                        <td id=\"T_77fbae3e_5387_11eb_9b6c_f96713096659row2_col9\" class=\"data row2 col9\" >0.01</td>\n",
       "            </tr>\n",
       "            <tr>\n",
       "                        <th id=\"T_77fbae3e_5387_11eb_9b6c_f96713096659level0_row3\" class=\"row_heading level0 row3\" >3</th>\n",
       "                        <td id=\"T_77fbae3e_5387_11eb_9b6c_f96713096659row3_col0\" class=\"data row3 col0\" >0.011</td>\n",
       "                        <td id=\"T_77fbae3e_5387_11eb_9b6c_f96713096659row3_col1\" class=\"data row3 col1\" >0.022</td>\n",
       "                        <td id=\"T_77fbae3e_5387_11eb_9b6c_f96713096659row3_col2\" class=\"data row3 col2\" >0.054</td>\n",
       "                        <td id=\"T_77fbae3e_5387_11eb_9b6c_f96713096659row3_col3\" class=\"data row3 col3\" >0.0</td>\n",
       "                        <td id=\"T_77fbae3e_5387_11eb_9b6c_f96713096659row3_col4\" class=\"data row3 col4\" >0.0</td>\n",
       "                        <td id=\"T_77fbae3e_5387_11eb_9b6c_f96713096659row3_col5\" class=\"data row3 col5\" >0.043</td>\n",
       "                        <td id=\"T_77fbae3e_5387_11eb_9b6c_f96713096659row3_col6\" class=\"data row3 col6\" >0.0</td>\n",
       "                        <td id=\"T_77fbae3e_5387_11eb_9b6c_f96713096659row3_col7\" class=\"data row3 col7\" >0.032</td>\n",
       "                        <td id=\"T_77fbae3e_5387_11eb_9b6c_f96713096659row3_col8\" class=\"data row3 col8\" >0.0</td>\n",
       "                        <td id=\"T_77fbae3e_5387_11eb_9b6c_f96713096659row3_col9\" class=\"data row3 col9\" >0.032</td>\n",
       "            </tr>\n",
       "            <tr>\n",
       "                        <th id=\"T_77fbae3e_5387_11eb_9b6c_f96713096659level0_row4\" class=\"row_heading level0 row4\" >4</th>\n",
       "                        <td id=\"T_77fbae3e_5387_11eb_9b6c_f96713096659row4_col0\" class=\"data row4 col0\" >0.0</td>\n",
       "                        <td id=\"T_77fbae3e_5387_11eb_9b6c_f96713096659row4_col1\" class=\"data row4 col1\" >0.0</td>\n",
       "                        <td id=\"T_77fbae3e_5387_11eb_9b6c_f96713096659row4_col2\" class=\"data row4 col2\" >0.0</td>\n",
       "                        <td id=\"T_77fbae3e_5387_11eb_9b6c_f96713096659row4_col3\" class=\"data row4 col3\" >0.029</td>\n",
       "                        <td id=\"T_77fbae3e_5387_11eb_9b6c_f96713096659row4_col4\" class=\"data row4 col4\" >0.0</td>\n",
       "                        <td id=\"T_77fbae3e_5387_11eb_9b6c_f96713096659row4_col5\" class=\"data row4 col5\" >0.029</td>\n",
       "                        <td id=\"T_77fbae3e_5387_11eb_9b6c_f96713096659row4_col6\" class=\"data row4 col6\" >0.0095</td>\n",
       "                        <td id=\"T_77fbae3e_5387_11eb_9b6c_f96713096659row4_col7\" class=\"data row4 col7\" >0.0095</td>\n",
       "                        <td id=\"T_77fbae3e_5387_11eb_9b6c_f96713096659row4_col8\" class=\"data row4 col8\" >0.019</td>\n",
       "                        <td id=\"T_77fbae3e_5387_11eb_9b6c_f96713096659row4_col9\" class=\"data row4 col9\" >0.048</td>\n",
       "            </tr>\n",
       "            <tr>\n",
       "                        <th id=\"T_77fbae3e_5387_11eb_9b6c_f96713096659level0_row5\" class=\"row_heading level0 row5\" >5</th>\n",
       "                        <td id=\"T_77fbae3e_5387_11eb_9b6c_f96713096659row5_col0\" class=\"data row5 col0\" >0.011</td>\n",
       "                        <td id=\"T_77fbae3e_5387_11eb_9b6c_f96713096659row5_col1\" class=\"data row5 col1\" >0.0</td>\n",
       "                        <td id=\"T_77fbae3e_5387_11eb_9b6c_f96713096659row5_col2\" class=\"data row5 col2\" >0.022</td>\n",
       "                        <td id=\"T_77fbae3e_5387_11eb_9b6c_f96713096659row5_col3\" class=\"data row5 col3\" >0.098</td>\n",
       "                        <td id=\"T_77fbae3e_5387_11eb_9b6c_f96713096659row5_col4\" class=\"data row5 col4\" >0.022</td>\n",
       "                        <td id=\"T_77fbae3e_5387_11eb_9b6c_f96713096659row5_col5\" class=\"data row5 col5\" >0.0</td>\n",
       "                        <td id=\"T_77fbae3e_5387_11eb_9b6c_f96713096659row5_col6\" class=\"data row5 col6\" >0.022</td>\n",
       "                        <td id=\"T_77fbae3e_5387_11eb_9b6c_f96713096659row5_col7\" class=\"data row5 col7\" >0.011</td>\n",
       "                        <td id=\"T_77fbae3e_5387_11eb_9b6c_f96713096659row5_col8\" class=\"data row5 col8\" >0.087</td>\n",
       "                        <td id=\"T_77fbae3e_5387_11eb_9b6c_f96713096659row5_col9\" class=\"data row5 col9\" >0.022</td>\n",
       "            </tr>\n",
       "            <tr>\n",
       "                        <th id=\"T_77fbae3e_5387_11eb_9b6c_f96713096659level0_row6\" class=\"row_heading level0 row6\" >6</th>\n",
       "                        <td id=\"T_77fbae3e_5387_11eb_9b6c_f96713096659row6_col0\" class=\"data row6 col0\" >0.021</td>\n",
       "                        <td id=\"T_77fbae3e_5387_11eb_9b6c_f96713096659row6_col1\" class=\"data row6 col1\" >0.011</td>\n",
       "                        <td id=\"T_77fbae3e_5387_11eb_9b6c_f96713096659row6_col2\" class=\"data row6 col2\" >0.032</td>\n",
       "                        <td id=\"T_77fbae3e_5387_11eb_9b6c_f96713096659row6_col3\" class=\"data row6 col3\" >0.0</td>\n",
       "                        <td id=\"T_77fbae3e_5387_11eb_9b6c_f96713096659row6_col4\" class=\"data row6 col4\" >0.021</td>\n",
       "                        <td id=\"T_77fbae3e_5387_11eb_9b6c_f96713096659row6_col5\" class=\"data row6 col5\" >0.043</td>\n",
       "                        <td id=\"T_77fbae3e_5387_11eb_9b6c_f96713096659row6_col6\" class=\"data row6 col6\" >0.0</td>\n",
       "                        <td id=\"T_77fbae3e_5387_11eb_9b6c_f96713096659row6_col7\" class=\"data row6 col7\" >0.0</td>\n",
       "                        <td id=\"T_77fbae3e_5387_11eb_9b6c_f96713096659row6_col8\" class=\"data row6 col8\" >0.0</td>\n",
       "                        <td id=\"T_77fbae3e_5387_11eb_9b6c_f96713096659row6_col9\" class=\"data row6 col9\" >0.0</td>\n",
       "            </tr>\n",
       "            <tr>\n",
       "                        <th id=\"T_77fbae3e_5387_11eb_9b6c_f96713096659level0_row7\" class=\"row_heading level0 row7\" >7</th>\n",
       "                        <td id=\"T_77fbae3e_5387_11eb_9b6c_f96713096659row7_col0\" class=\"data row7 col0\" >0.0</td>\n",
       "                        <td id=\"T_77fbae3e_5387_11eb_9b6c_f96713096659row7_col1\" class=\"data row7 col1\" >0.017</td>\n",
       "                        <td id=\"T_77fbae3e_5387_11eb_9b6c_f96713096659row7_col2\" class=\"data row7 col2\" >0.026</td>\n",
       "                        <td id=\"T_77fbae3e_5387_11eb_9b6c_f96713096659row7_col3\" class=\"data row7 col3\" >0.0</td>\n",
       "                        <td id=\"T_77fbae3e_5387_11eb_9b6c_f96713096659row7_col4\" class=\"data row7 col4\" >0.026</td>\n",
       "                        <td id=\"T_77fbae3e_5387_11eb_9b6c_f96713096659row7_col5\" class=\"data row7 col5\" >0.0</td>\n",
       "                        <td id=\"T_77fbae3e_5387_11eb_9b6c_f96713096659row7_col6\" class=\"data row7 col6\" >0.0</td>\n",
       "                        <td id=\"T_77fbae3e_5387_11eb_9b6c_f96713096659row7_col7\" class=\"data row7 col7\" >0.0</td>\n",
       "                        <td id=\"T_77fbae3e_5387_11eb_9b6c_f96713096659row7_col8\" class=\"data row7 col8\" >0.0</td>\n",
       "                        <td id=\"T_77fbae3e_5387_11eb_9b6c_f96713096659row7_col9\" class=\"data row7 col9\" >0.026</td>\n",
       "            </tr>\n",
       "            <tr>\n",
       "                        <th id=\"T_77fbae3e_5387_11eb_9b6c_f96713096659level0_row8\" class=\"row_heading level0 row8\" >8</th>\n",
       "                        <td id=\"T_77fbae3e_5387_11eb_9b6c_f96713096659row8_col0\" class=\"data row8 col0\" >0.023</td>\n",
       "                        <td id=\"T_77fbae3e_5387_11eb_9b6c_f96713096659row8_col1\" class=\"data row8 col1\" >0.069</td>\n",
       "                        <td id=\"T_77fbae3e_5387_11eb_9b6c_f96713096659row8_col2\" class=\"data row8 col2\" >0.023</td>\n",
       "                        <td id=\"T_77fbae3e_5387_11eb_9b6c_f96713096659row8_col3\" class=\"data row8 col3\" >0.011</td>\n",
       "                        <td id=\"T_77fbae3e_5387_11eb_9b6c_f96713096659row8_col4\" class=\"data row8 col4\" >0.0</td>\n",
       "                        <td id=\"T_77fbae3e_5387_11eb_9b6c_f96713096659row8_col5\" class=\"data row8 col5\" >0.069</td>\n",
       "                        <td id=\"T_77fbae3e_5387_11eb_9b6c_f96713096659row8_col6\" class=\"data row8 col6\" >0.023</td>\n",
       "                        <td id=\"T_77fbae3e_5387_11eb_9b6c_f96713096659row8_col7\" class=\"data row8 col7\" >0.023</td>\n",
       "                        <td id=\"T_77fbae3e_5387_11eb_9b6c_f96713096659row8_col8\" class=\"data row8 col8\" >0.0</td>\n",
       "                        <td id=\"T_77fbae3e_5387_11eb_9b6c_f96713096659row8_col9\" class=\"data row8 col9\" >0.023</td>\n",
       "            </tr>\n",
       "            <tr>\n",
       "                        <th id=\"T_77fbae3e_5387_11eb_9b6c_f96713096659level0_row9\" class=\"row_heading level0 row9\" >9</th>\n",
       "                        <td id=\"T_77fbae3e_5387_11eb_9b6c_f96713096659row9_col0\" class=\"data row9 col0\" >0.03</td>\n",
       "                        <td id=\"T_77fbae3e_5387_11eb_9b6c_f96713096659row9_col1\" class=\"data row9 col1\" >0.0</td>\n",
       "                        <td id=\"T_77fbae3e_5387_11eb_9b6c_f96713096659row9_col2\" class=\"data row9 col2\" >0.02</td>\n",
       "                        <td id=\"T_77fbae3e_5387_11eb_9b6c_f96713096659row9_col3\" class=\"data row9 col3\" >0.01</td>\n",
       "                        <td id=\"T_77fbae3e_5387_11eb_9b6c_f96713096659row9_col4\" class=\"data row9 col4\" >0.07</td>\n",
       "                        <td id=\"T_77fbae3e_5387_11eb_9b6c_f96713096659row9_col5\" class=\"data row9 col5\" >0.01</td>\n",
       "                        <td id=\"T_77fbae3e_5387_11eb_9b6c_f96713096659row9_col6\" class=\"data row9 col6\" >0.0</td>\n",
       "                        <td id=\"T_77fbae3e_5387_11eb_9b6c_f96713096659row9_col7\" class=\"data row9 col7\" >0.17</td>\n",
       "                        <td id=\"T_77fbae3e_5387_11eb_9b6c_f96713096659row9_col8\" class=\"data row9 col8\" >0.01</td>\n",
       "                        <td id=\"T_77fbae3e_5387_11eb_9b6c_f96713096659row9_col9\" class=\"data row9 col9\" >0.0</td>\n",
       "            </tr>\n",
       "    </tbody></table>"
      ],
      "text/plain": [
       "<pandas.io.formats.style.Styler at 0x7f346867eac0>"
      ]
     },
     "execution_count": 68,
     "metadata": {},
     "output_type": "execute_result"
    }
   ],
   "source": [
    "pd.DataFrame(norm_conf_mx,\n",
    "             columns = sgd_clf.classes_,\n",
    "             index = sgd_clf.classes_)\\\n",
    ".style\\\n",
    ".background_gradient(cmap=\"Blues\")\\\n",
    ".format('{:,.2}')"
   ]
  },
  {
   "cell_type": "markdown",
   "metadata": {},
   "source": [
    "<br>\n",
    "<br>\n",
    "<br>\n",
    "\n",
    "---\n",
    "\n",
    "# Multilabel classification"
   ]
  },
  {
   "cell_type": "code",
   "execution_count": 73,
   "metadata": {},
   "outputs": [],
   "source": [
    "from sklearn.neighbors import KNeighborsClassifier"
   ]
  },
  {
   "cell_type": "code",
   "execution_count": 85,
   "metadata": {},
   "outputs": [
    {
     "data": {
      "text/plain": [
       "array([[False, False,  True],\n",
       "       [False,  True, False],\n",
       "       [False, False,  True],\n",
       "       ...,\n",
       "       [False, False,  True],\n",
       "       [False, False,  True],\n",
       "       [ True, False, False]])"
      ]
     },
     "execution_count": 85,
     "metadata": {},
     "output_type": "execute_result"
    }
   ],
   "source": [
    "ge7 = (y_train >= 7)\n",
    "le3 = (y_train <= 3)\n",
    "b37 = (y_train > 3) & (y_train < 7)\n",
    "\n",
    "y_multilabel = np.c_[ge7, le3, b37]\n",
    "y_multilabel"
   ]
  },
  {
   "cell_type": "code",
   "execution_count": 87,
   "metadata": {},
   "outputs": [
    {
     "data": {
      "text/plain": [
       "KNeighborsClassifier()"
      ]
     },
     "execution_count": 87,
     "metadata": {},
     "output_type": "execute_result"
    }
   ],
   "source": [
    "knn_clf = KNeighborsClassifier()\n",
    "knn_clf.fit(X_train[:1000], y_multilabel[:1000])"
   ]
  },
  {
   "cell_type": "code",
   "execution_count": 89,
   "metadata": {},
   "outputs": [
    {
     "data": {
      "text/plain": [
       "array([[False, False,  True]])"
      ]
     },
     "execution_count": 89,
     "metadata": {},
     "output_type": "execute_result"
    }
   ],
   "source": [
    "knn_clf.predict(X_train[:1])"
   ]
  },
  {
   "cell_type": "markdown",
   "metadata": {},
   "source": [
    "**Warning**: the following cell may take a very long time (possibly hours depending on your hardware)."
   ]
  },
  {
   "cell_type": "code",
   "execution_count": null,
   "metadata": {},
   "outputs": [],
   "source": []
  },
  {
   "cell_type": "code",
   "execution_count": 93,
   "metadata": {},
   "outputs": [
    {
     "data": {
      "text/plain": [
       "0.8049000644745327"
      ]
     },
     "execution_count": 93,
     "metadata": {},
     "output_type": "execute_result"
    }
   ],
   "source": [
    "from sklearn.metrics import f1_score\n",
    "y_train_knn_pred = cross_val_predict(knn_clf, X_train[:100], y_multilabel[:100], cv=3)\n",
    "f1_score(y_multilabel[:100], y_train_knn_pred, average=\"macro\")\n"
   ]
  },
  {
   "cell_type": "code",
   "execution_count": 94,
   "metadata": {},
   "outputs": [
    {
     "data": {
      "text/plain": [
       "0.8119226305609285"
      ]
     },
     "execution_count": 94,
     "metadata": {},
     "output_type": "execute_result"
    }
   ],
   "source": [
    "# One simple option is to give each label a weight equal to its support\n",
    "f1_score(y_multilabel[:100], y_train_knn_pred, average=\"weighted\")"
   ]
  },
  {
   "cell_type": "markdown",
   "metadata": {},
   "source": [
    "<br>\n",
    "<br>\n",
    "<br>\n",
    "\n",
    "---\n",
    "\n",
    "# Multioutput classification"
   ]
  },
  {
   "cell_type": "code",
   "execution_count": 95,
   "metadata": {},
   "outputs": [],
   "source": [
    "noise = np.random.randint(0, 100, (len(X_train), 784))\n",
    "X_train_mod = X_train + noise\n",
    "noise = np.random.randint(0, 100, (len(X_test), 784))\n",
    "X_test_mod = X_test + noise\n",
    "y_train_mod = X_train\n",
    "y_test_mod = X_test"
   ]
  },
  {
   "cell_type": "code",
   "execution_count": 102,
   "metadata": {},
   "outputs": [],
   "source": [
    "knn_clf.fit(X_train_mod[:1000], y_train_mod[:1000])\n",
    "clean_digit = knn_clf.predict(X_test_mod[:1])"
   ]
  },
  {
   "cell_type": "code",
   "execution_count": 105,
   "metadata": {},
   "outputs": [
    {
     "data": {
      "text/plain": [
       "array([[  0.,   0.,   0.,   0.,   0.,   0.,   0.,   0.,   0.,   0.,   0.,\n",
       "          0.,   0.,   0.,   0.,   0.,   0.,   0.,   0.,   0.,   0.,   0.,\n",
       "          0.,   0.,   0.,   0.,   0.,   0.,   0.,   0.,   0.,   0.,   0.,\n",
       "          0.,   0.,   0.,   0.,   0.,   0.,   0.,   0.,   0.,   0.,   0.,\n",
       "          0.,   0.,   0.,   0.,   0.,   0.,   0.,   0.,   0.,   0.,   0.,\n",
       "          0.,   0.,   0.,   0.,   0.,   0.,   0.,   0.,   0.,   0.,   0.,\n",
       "          0.,   0.,   0.,   0.,   0.,   0.,   0.,   0.,   0.,   0.,   0.,\n",
       "          0.,   0.,   0.,   0.,   0.,   0.,   0.,   0.,   0.,   0.,   0.,\n",
       "          0.,   0.,   0.,   0.,   0.,   0.,   0.,   0.,   0.,   0.,   0.,\n",
       "          0.,   0.,   0.,   0.,   0.,   0.,   0.,   0.,   0.,   0.,   0.,\n",
       "          0.,   0.,   0.,   0.,   0.,   0.,   0.,   0.,   0.,   0.,   0.,\n",
       "          0.,   0.,   0.,   0.,   0.,   0.,   0.,   0.,   0.,   0.,   0.,\n",
       "          0.,   0.,   0.,   0.,   0.,   0.,   0.,   0.,   0.,   0.,   0.,\n",
       "          0.,   0.,   0.,   0.,   0.,   0.,   0.,   0.,   0.,   0.,   0.,\n",
       "          0.,   0.,   0.,   0.,   0.,   0.,   0.,   0.,   0.,   0.,   0.,\n",
       "          0.,   0.,   0.,   0.,   0.,   0.,   0.,   0.,   0.,   0.,   0.,\n",
       "          0.,   0.,   0.,   0.,   0.,   0.,   0.,   0.,   0.,   0.,   0.,\n",
       "          0.,   0.,   0.,   0.,   0.,   0.,   0.,   0.,   0.,   0.,   0.,\n",
       "          0.,   0.,   0.,   0.,   0.,   0.,   0.,   0.,   0.,   0.,   0.,\n",
       "          0.,   0.,   0.,   0.,   0.,   0.,   0.,   0.,   0.,   0.,   0.,\n",
       "          0.,   0.,   0.,   0.,   0.,   0.,   0.,   0.,   0.,   0.,   0.,\n",
       "          0.,   0.,   0.,  61., 253., 253., 145., 151., 253., 118., 118.,\n",
       "        253., 192.,  72.,   0.,   0.,   0.,   0.,   0.,   0.,   0.,   0.,\n",
       "          0.,   0.,   0.,   0.,   0.,   0.,   0.,  66., 253., 235., 253.,\n",
       "        159., 128.,   0., 253.,   0.,   0., 128., 253., 213.,   0.,   0.,\n",
       "          0.,   0.,   0.,   0.,   0.,   0.,   0.,   0.,   0.,   0.,   0.,\n",
       "          0.,   0., 253., 253., 253.,   0.,   0.,   0.,   0.,   0.,   0.,\n",
       "          0.,   0., 253., 196.,   0.,   0.,   0.,   0.,   0.,   0.,   0.,\n",
       "          0.,   0.,   0.,   0.,   0.,   0.,   0.,   0.,   0.,   0.,   0.,\n",
       "          0.,   0.,   0.,   0.,   0.,   0.,   0., 253., 253., 139.,   0.,\n",
       "          0.,   0.,   0.,   0.,   0.,   0.,   0.,   0.,   0.,   0.,   0.,\n",
       "          0.,   0.,   0.,   0.,   0.,   0.,   0.,   0.,   0.,   0.,   0.,\n",
       "          0.,   0., 253., 253.,  34.,   0.,   0.,   0.,   0.,   0.,   0.,\n",
       "          0.,   0.,   0.,   0.,   0.,   0.,   0.,   0.,   0.,   0.,   0.,\n",
       "          0.,   0.,   0.,   0.,   0.,   0.,   0.,  64., 253.,  83.,   0.,\n",
       "          0.,   0.,   0.,   0.,   0.,   0.,   0.,   0.,   0.,   0.,   0.,\n",
       "          0.,   0.,   0.,   0.,   0.,   0.,   0.,   0.,   0.,   0.,   0.,\n",
       "          0.,  64., 253., 230.,  37.,   0.,   0.,   0.,   0.,   0.,   0.,\n",
       "          0.,   0.,   0.,   0.,   0.,   0.,   0.,   0.,   0.,   0.,   0.,\n",
       "          0.,   0.,   0.,   0.,   0.,   0.,   0., 191., 253.,  52.,   0.,\n",
       "          0.,   0.,   0.,   0.,   0.,   0.,   0.,   0.,   0.,   0.,   0.,\n",
       "          0.,   0.,   0.,   0.,   0.,   0.,   0.,   0.,   0.,   0.,   0.,\n",
       "          0., 191., 253., 253.,   0.,   0.,   0.,   0.,   0.,   0.,   0.,\n",
       "          0.,   0.,   0.,   0.,   0.,   0.,   0.,   0.,   0.,   0.,   0.,\n",
       "          0.,   0.,   0.,   0.,   0.,   0.,  19., 254., 254.,   0.,   0.,\n",
       "          0.,   0.,   0.,   0.,   0.,   0.,   0.,   0.,   0.,   0.,   0.,\n",
       "          0.,   0.,   0.,   0.,   0.,   0.,   0.,   0.,   0.,   0.,   0.,\n",
       "          0., 203., 253.,  87.,   0.,   0.,   0.,   0.,   0.,   0.,   0.,\n",
       "          0.,   0.,   0.,   0.,   0.,   0.,   0.,   0.,   0.,   0.,   0.,\n",
       "          0.,   0.,   0.,   0.,   0.,   0.,  99., 253., 128.,   0.,   0.,\n",
       "          0.,   0.,   0.,   0.,   0.,   0.,   0.,   0.,   0.,   0.,   0.,\n",
       "          0.,   0.,   0.,   0.,   0.,   0.,   0.,   0.,   0.,   0.,   0.,\n",
       "         45., 253., 246., 253.,   0.,   0.,   0.,   0.,   0.,   0.,   0.,\n",
       "          0.,   0.,   0.,   0.,   0.,   0.,   0.,   0.,   0.,   0.,   0.,\n",
       "          0.,   0.,   0.,   0.,   0.,  16., 175., 253.,  64.,   0.,   0.,\n",
       "          0.,   0.,   0.,   0.,   0.,   0.,   0.,   0.,   0.,   0.,   0.,\n",
       "          0.,   0.,   0.,   0.,   0.,   0.,   0.,   0.,   0.,   0.,   0.,\n",
       "         56., 248., 128.,   0.,   0.,   0.,   0.,   0.,   0.,   0.,   0.,\n",
       "          0.,   0.,   0.,   0.,   0.,   0.,   0.,   0.,   0.,   0.,   0.,\n",
       "          0.,   0.,   0.,   0.,   0.,   0., 171., 253., 253.,   0.,   0.,\n",
       "          0.,   0.,   0.,   0.,   0.,   0.,   0.,   0.,   0.,   0.,   0.,\n",
       "          0.,   0.,   0.,   0.,   0.,   0.,   0.,   0.,   0.,   0.,   0.,\n",
       "          0., 253., 252.,   2.,   0.,   0.,   0.,   0.,   0.,   0.,   0.,\n",
       "          0.,   0.,   0.,   0.,   0.,   0.,   0.,   0.,   0.,   0.,   0.,\n",
       "          0.,   0.,   0.,   0.,   0.,   0.,   0., 253.,  24.,   0.,   0.,\n",
       "          0.,   0.,   0.,   0.,   0.,   0.,   0.,   0.,   0.,   0.,   0.,\n",
       "          0.,   0.,   0.,   0.,   0.,   0.,   0.,   0.,   0.,   0.,   0.,\n",
       "          0.,   0.,  47.,  24.,   0.,   0.,   0.,   0.,   0.,   0.,   0.,\n",
       "          0.,   0.,   0.,   0.,   0.,   0.,   0.,   0.,   0.,   0.,   0.,\n",
       "          0.,   0.,   0.,   0.,   0.,   0.,   0.,   0.,   0.,   0.,   0.,\n",
       "          0.,   0.,   0.,   0.,   0.,   0.,   0.,   0.,   0.,   0.,   0.,\n",
       "          0.,   0.,   0.]])"
      ]
     },
     "execution_count": 105,
     "metadata": {},
     "output_type": "execute_result"
    }
   ],
   "source": [
    "(clean_digit)"
   ]
  },
  {
   "cell_type": "markdown",
   "metadata": {},
   "source": [
    "# Extra material"
   ]
  },
  {
   "cell_type": "markdown",
   "metadata": {},
   "source": [
    "## Dummy (ie. random) classifier"
   ]
  },
  {
   "cell_type": "code",
   "execution_count": null,
   "metadata": {},
   "outputs": [],
   "source": [
    "from sklearn.dummy import DummyClassifier\n",
    "dmy_clf = DummyClassifier(strategy=\"prior\")\n",
    "y_probas_dmy = cross_val_predict(dmy_clf, X_train, y_train_5, cv=3, method=\"predict_proba\")\n",
    "y_scores_dmy = y_probas_dmy[:, 1]"
   ]
  },
  {
   "cell_type": "code",
   "execution_count": null,
   "metadata": {
    "scrolled": true
   },
   "outputs": [],
   "source": [
    "fprr, tprr, thresholdsr = roc_curve(y_train_5, y_scores_dmy)\n",
    "plot_roc_curve(fprr, tprr)"
   ]
  },
  {
   "cell_type": "markdown",
   "metadata": {},
   "source": [
    "## KNN classifier"
   ]
  },
  {
   "cell_type": "code",
   "execution_count": null,
   "metadata": {},
   "outputs": [],
   "source": [
    "from sklearn.neighbors import KNeighborsClassifier\n",
    "knn_clf = KNeighborsClassifier(weights='distance', n_neighbors=4)\n",
    "knn_clf.fit(X_train, y_train)"
   ]
  },
  {
   "cell_type": "code",
   "execution_count": null,
   "metadata": {},
   "outputs": [],
   "source": [
    "y_knn_pred = knn_clf.predict(X_test)"
   ]
  },
  {
   "cell_type": "code",
   "execution_count": null,
   "metadata": {},
   "outputs": [],
   "source": [
    "from sklearn.metrics import accuracy_score\n",
    "accuracy_score(y_test, y_knn_pred)"
   ]
  },
  {
   "cell_type": "code",
   "execution_count": null,
   "metadata": {},
   "outputs": [],
   "source": [
    "from scipy.ndimage.interpolation import shift\n",
    "def shift_digit(digit_array, dx, dy, new=0):\n",
    "    return shift(digit_array.reshape(28, 28), [dy, dx], cval=new).reshape(784)\n",
    "\n",
    "plot_digit(shift_digit(some_digit, 5, 1, new=100))"
   ]
  },
  {
   "cell_type": "code",
   "execution_count": null,
   "metadata": {},
   "outputs": [],
   "source": [
    "X_train_expanded = [X_train]\n",
    "y_train_expanded = [y_train]\n",
    "for dx, dy in ((1, 0), (-1, 0), (0, 1), (0, -1)):\n",
    "    shifted_images = np.apply_along_axis(shift_digit, axis=1, arr=X_train, dx=dx, dy=dy)\n",
    "    X_train_expanded.append(shifted_images)\n",
    "    y_train_expanded.append(y_train)\n",
    "\n",
    "X_train_expanded = np.concatenate(X_train_expanded)\n",
    "y_train_expanded = np.concatenate(y_train_expanded)\n",
    "X_train_expanded.shape, y_train_expanded.shape"
   ]
  },
  {
   "cell_type": "code",
   "execution_count": null,
   "metadata": {},
   "outputs": [],
   "source": [
    "knn_clf.fit(X_train_expanded, y_train_expanded)"
   ]
  },
  {
   "cell_type": "code",
   "execution_count": null,
   "metadata": {},
   "outputs": [],
   "source": [
    "y_knn_expanded_pred = knn_clf.predict(X_test)"
   ]
  },
  {
   "cell_type": "code",
   "execution_count": null,
   "metadata": {},
   "outputs": [],
   "source": [
    "accuracy_score(y_test, y_knn_expanded_pred)"
   ]
  },
  {
   "cell_type": "code",
   "execution_count": null,
   "metadata": {},
   "outputs": [],
   "source": [
    "ambiguous_digit = X_test[2589]\n",
    "knn_clf.predict_proba([ambiguous_digit])"
   ]
  },
  {
   "cell_type": "code",
   "execution_count": null,
   "metadata": {},
   "outputs": [],
   "source": [
    "plot_digit(ambiguous_digit)"
   ]
  },
  {
   "cell_type": "markdown",
   "metadata": {},
   "source": [
    "# Exercise solutions"
   ]
  },
  {
   "cell_type": "markdown",
   "metadata": {},
   "source": [
    "## 1. An MNIST Classifier With Over 97% Accuracy"
   ]
  },
  {
   "cell_type": "markdown",
   "metadata": {},
   "source": [
    "**Warning**: the next cell may take hours to run, depending on your hardware."
   ]
  },
  {
   "cell_type": "code",
   "execution_count": null,
   "metadata": {},
   "outputs": [],
   "source": [
    "from sklearn.model_selection import GridSearchCV\n",
    "\n",
    "param_grid = [{'weights': [\"uniform\", \"distance\"], 'n_neighbors': [3, 4, 5]}]\n",
    "\n",
    "knn_clf = KNeighborsClassifier()\n",
    "grid_search = GridSearchCV(knn_clf, param_grid, cv=5, verbose=3)\n",
    "grid_search.fit(X_train, y_train)"
   ]
  },
  {
   "cell_type": "code",
   "execution_count": null,
   "metadata": {},
   "outputs": [],
   "source": [
    "grid_search.best_params_"
   ]
  },
  {
   "cell_type": "code",
   "execution_count": null,
   "metadata": {},
   "outputs": [],
   "source": [
    "grid_search.best_score_"
   ]
  },
  {
   "cell_type": "code",
   "execution_count": null,
   "metadata": {},
   "outputs": [],
   "source": [
    "from sklearn.metrics import accuracy_score\n",
    "\n",
    "y_pred = grid_search.predict(X_test)\n",
    "accuracy_score(y_test, y_pred)"
   ]
  },
  {
   "cell_type": "markdown",
   "metadata": {},
   "source": [
    "## 2. Data Augmentation"
   ]
  },
  {
   "cell_type": "code",
   "execution_count": null,
   "metadata": {},
   "outputs": [],
   "source": [
    "from scipy.ndimage.interpolation import shift"
   ]
  },
  {
   "cell_type": "code",
   "execution_count": null,
   "metadata": {},
   "outputs": [],
   "source": [
    "def shift_image(image, dx, dy):\n",
    "    image = image.reshape((28, 28))\n",
    "    shifted_image = shift(image, [dy, dx], cval=0, mode=\"constant\")\n",
    "    return shifted_image.reshape([-1])"
   ]
  },
  {
   "cell_type": "code",
   "execution_count": null,
   "metadata": {},
   "outputs": [],
   "source": [
    "image = X_train[1000]\n",
    "shifted_image_down = shift_image(image, 0, 5)\n",
    "shifted_image_left = shift_image(image, -5, 0)\n",
    "\n",
    "plt.figure(figsize=(12,3))\n",
    "plt.subplot(131)\n",
    "plt.title(\"Original\", fontsize=14)\n",
    "plt.imshow(image.reshape(28, 28), interpolation=\"nearest\", cmap=\"Greys\")\n",
    "plt.subplot(132)\n",
    "plt.title(\"Shifted down\", fontsize=14)\n",
    "plt.imshow(shifted_image_down.reshape(28, 28), interpolation=\"nearest\", cmap=\"Greys\")\n",
    "plt.subplot(133)\n",
    "plt.title(\"Shifted left\", fontsize=14)\n",
    "plt.imshow(shifted_image_left.reshape(28, 28), interpolation=\"nearest\", cmap=\"Greys\")\n",
    "plt.show()"
   ]
  },
  {
   "cell_type": "code",
   "execution_count": null,
   "metadata": {},
   "outputs": [],
   "source": [
    "X_train_augmented = [image for image in X_train]\n",
    "y_train_augmented = [label for label in y_train]\n",
    "\n",
    "for dx, dy in ((1, 0), (-1, 0), (0, 1), (0, -1)):\n",
    "    for image, label in zip(X_train, y_train):\n",
    "        X_train_augmented.append(shift_image(image, dx, dy))\n",
    "        y_train_augmented.append(label)\n",
    "\n",
    "X_train_augmented = np.array(X_train_augmented)\n",
    "y_train_augmented = np.array(y_train_augmented)"
   ]
  },
  {
   "cell_type": "code",
   "execution_count": null,
   "metadata": {},
   "outputs": [],
   "source": [
    "shuffle_idx = np.random.permutation(len(X_train_augmented))\n",
    "X_train_augmented = X_train_augmented[shuffle_idx]\n",
    "y_train_augmented = y_train_augmented[shuffle_idx]"
   ]
  },
  {
   "cell_type": "code",
   "execution_count": null,
   "metadata": {},
   "outputs": [],
   "source": [
    "knn_clf = KNeighborsClassifier(**grid_search.best_params_)"
   ]
  },
  {
   "cell_type": "code",
   "execution_count": null,
   "metadata": {},
   "outputs": [],
   "source": [
    "knn_clf.fit(X_train_augmented, y_train_augmented)"
   ]
  },
  {
   "cell_type": "code",
   "execution_count": null,
   "metadata": {},
   "outputs": [],
   "source": [
    "y_pred = knn_clf.predict(X_test)\n",
    "accuracy_score(y_test, y_pred)"
   ]
  },
  {
   "cell_type": "markdown",
   "metadata": {},
   "source": [
    "By simply augmenting the data, we got a 0.5% accuracy boost. :)"
   ]
  },
  {
   "cell_type": "markdown",
   "metadata": {},
   "source": [
    "## 3. Tackle the Titanic dataset"
   ]
  },
  {
   "cell_type": "markdown",
   "metadata": {},
   "source": [
    "The goal is to predict whether or not a passenger survived based on attributes such as their age, sex, passenger class, where they embarked and so on."
   ]
  },
  {
   "cell_type": "markdown",
   "metadata": {},
   "source": [
    "First, login to [Kaggle](https://www.kaggle.com/) and go to the [Titanic challenge](https://www.kaggle.com/c/titanic) to download `train.csv` and `test.csv`. Save them to the `datasets/titanic` directory."
   ]
  },
  {
   "cell_type": "markdown",
   "metadata": {},
   "source": [
    "Next, let's load the data:"
   ]
  },
  {
   "cell_type": "code",
   "execution_count": null,
   "metadata": {},
   "outputs": [],
   "source": [
    "import os\n",
    "\n",
    "TITANIC_PATH = os.path.join(\"datasets\", \"titanic\")"
   ]
  },
  {
   "cell_type": "code",
   "execution_count": null,
   "metadata": {},
   "outputs": [],
   "source": [
    "import pandas as pd\n",
    "\n",
    "def load_titanic_data(filename, titanic_path=TITANIC_PATH):\n",
    "    csv_path = os.path.join(titanic_path, filename)\n",
    "    return pd.read_csv(csv_path)"
   ]
  },
  {
   "cell_type": "code",
   "execution_count": null,
   "metadata": {},
   "outputs": [],
   "source": [
    "train_data = load_titanic_data(\"train.csv\")\n",
    "test_data = load_titanic_data(\"test.csv\")"
   ]
  },
  {
   "cell_type": "markdown",
   "metadata": {},
   "source": [
    "The data is already split into a training set and a test set. However, the test data does *not* contain the labels: your goal is to train the best model you can using the training data, then make your predictions on the test data and upload them to Kaggle to see your final score."
   ]
  },
  {
   "cell_type": "markdown",
   "metadata": {},
   "source": [
    "Let's take a peek at the top few rows of the training set:"
   ]
  },
  {
   "cell_type": "code",
   "execution_count": null,
   "metadata": {},
   "outputs": [],
   "source": [
    "train_data.head()"
   ]
  },
  {
   "cell_type": "markdown",
   "metadata": {},
   "source": [
    "The attributes have the following meaning:\n",
    "* **Survived**: that's the target, 0 means the passenger did not survive, while 1 means he/she survived.\n",
    "* **Pclass**: passenger class.\n",
    "* **Name**, **Sex**, **Age**: self-explanatory\n",
    "* **SibSp**: how many siblings & spouses of the passenger aboard the Titanic.\n",
    "* **Parch**: how many children & parents of the passenger aboard the Titanic.\n",
    "* **Ticket**: ticket id\n",
    "* **Fare**: price paid (in pounds)\n",
    "* **Cabin**: passenger's cabin number\n",
    "* **Embarked**: where the passenger embarked the Titanic"
   ]
  },
  {
   "cell_type": "markdown",
   "metadata": {},
   "source": [
    "Let's get more info to see how much data is missing:"
   ]
  },
  {
   "cell_type": "code",
   "execution_count": null,
   "metadata": {},
   "outputs": [],
   "source": [
    "train_data.info()"
   ]
  },
  {
   "cell_type": "markdown",
   "metadata": {},
   "source": [
    "Okay, the **Age**, **Cabin** and **Embarked** attributes are sometimes null (less than 891 non-null), especially the **Cabin** (77% are null). We will ignore the **Cabin** for now and focus on the rest. The **Age** attribute has about 19% null values, so we will need to decide what to do with them. Replacing null values with the median age seems reasonable."
   ]
  },
  {
   "cell_type": "markdown",
   "metadata": {},
   "source": [
    "The **Name** and **Ticket** attributes may have some value, but they will be a bit tricky to convert into useful numbers that a model can consume. So for now, we will ignore them."
   ]
  },
  {
   "cell_type": "markdown",
   "metadata": {},
   "source": [
    "Let's take a look at the numerical attributes:"
   ]
  },
  {
   "cell_type": "code",
   "execution_count": null,
   "metadata": {},
   "outputs": [],
   "source": [
    "train_data.describe()"
   ]
  },
  {
   "cell_type": "markdown",
   "metadata": {},
   "source": [
    "* Yikes, only 38% **Survived**. :(  That's close enough to 40%, so accuracy will be a reasonable metric to evaluate our model.\n",
    "* The mean **Fare** was £32.20, which does not seem so expensive (but it was probably a lot of money back then).\n",
    "* The mean **Age** was less than 30 years old."
   ]
  },
  {
   "cell_type": "markdown",
   "metadata": {},
   "source": [
    "Let's check that the target is indeed 0 or 1:"
   ]
  },
  {
   "cell_type": "code",
   "execution_count": null,
   "metadata": {},
   "outputs": [],
   "source": [
    "train_data[\"Survived\"].value_counts()"
   ]
  },
  {
   "cell_type": "markdown",
   "metadata": {},
   "source": [
    "Now let's take a quick look at all the categorical attributes:"
   ]
  },
  {
   "cell_type": "code",
   "execution_count": null,
   "metadata": {},
   "outputs": [],
   "source": [
    "train_data[\"Pclass\"].value_counts()"
   ]
  },
  {
   "cell_type": "code",
   "execution_count": null,
   "metadata": {},
   "outputs": [],
   "source": [
    "train_data[\"Sex\"].value_counts()"
   ]
  },
  {
   "cell_type": "code",
   "execution_count": null,
   "metadata": {},
   "outputs": [],
   "source": [
    "train_data[\"Embarked\"].value_counts()"
   ]
  },
  {
   "cell_type": "markdown",
   "metadata": {},
   "source": [
    "The Embarked attribute tells us where the passenger embarked: C=Cherbourg, Q=Queenstown, S=Southampton."
   ]
  },
  {
   "cell_type": "markdown",
   "metadata": {},
   "source": [
    "**Note**: the code below uses a mix of `Pipeline`, `FeatureUnion` and a custom `DataFrameSelector` to preprocess some columns differently.  Since Scikit-Learn 0.20, it is preferable to use a `ColumnTransformer`, like in the previous chapter."
   ]
  },
  {
   "cell_type": "markdown",
   "metadata": {},
   "source": [
    "Now let's build our preprocessing pipelines. We will reuse the `DataframeSelector` we built in the previous chapter to select specific attributes from the `DataFrame`:"
   ]
  },
  {
   "cell_type": "code",
   "execution_count": null,
   "metadata": {},
   "outputs": [],
   "source": [
    "from sklearn.base import BaseEstimator, TransformerMixin\n",
    "\n",
    "class DataFrameSelector(BaseEstimator, TransformerMixin):\n",
    "    def __init__(self, attribute_names):\n",
    "        self.attribute_names = attribute_names\n",
    "    def fit(self, X, y=None):\n",
    "        return self\n",
    "    def transform(self, X):\n",
    "        return X[self.attribute_names]"
   ]
  },
  {
   "cell_type": "markdown",
   "metadata": {},
   "source": [
    "Let's build the pipeline for the numerical attributes:"
   ]
  },
  {
   "cell_type": "code",
   "execution_count": null,
   "metadata": {},
   "outputs": [],
   "source": [
    "from sklearn.pipeline import Pipeline\n",
    "from sklearn.impute import SimpleImputer\n",
    "\n",
    "num_pipeline = Pipeline([\n",
    "        (\"select_numeric\", DataFrameSelector([\"Age\", \"SibSp\", \"Parch\", \"Fare\"])),\n",
    "        (\"imputer\", SimpleImputer(strategy=\"median\")),\n",
    "    ])"
   ]
  },
  {
   "cell_type": "code",
   "execution_count": null,
   "metadata": {},
   "outputs": [],
   "source": [
    "num_pipeline.fit_transform(train_data)"
   ]
  },
  {
   "cell_type": "markdown",
   "metadata": {},
   "source": [
    "We will also need an imputer for the string categorical columns (the regular `SimpleImputer` does not work on those):"
   ]
  },
  {
   "cell_type": "code",
   "execution_count": null,
   "metadata": {},
   "outputs": [],
   "source": [
    "# Inspired from stackoverflow.com/questions/25239958\n",
    "class MostFrequentImputer(BaseEstimator, TransformerMixin):\n",
    "    def fit(self, X, y=None):\n",
    "        self.most_frequent_ = pd.Series([X[c].value_counts().index[0] for c in X],\n",
    "                                        index=X.columns)\n",
    "        return self\n",
    "    def transform(self, X, y=None):\n",
    "        return X.fillna(self.most_frequent_)"
   ]
  },
  {
   "cell_type": "code",
   "execution_count": null,
   "metadata": {},
   "outputs": [],
   "source": [
    "from sklearn.preprocessing import OneHotEncoder"
   ]
  },
  {
   "cell_type": "markdown",
   "metadata": {},
   "source": [
    "Now we can build the pipeline for the categorical attributes:"
   ]
  },
  {
   "cell_type": "code",
   "execution_count": null,
   "metadata": {},
   "outputs": [],
   "source": [
    "cat_pipeline = Pipeline([\n",
    "        (\"select_cat\", DataFrameSelector([\"Pclass\", \"Sex\", \"Embarked\"])),\n",
    "        (\"imputer\", MostFrequentImputer()),\n",
    "        (\"cat_encoder\", OneHotEncoder(sparse=False)),\n",
    "    ])"
   ]
  },
  {
   "cell_type": "code",
   "execution_count": null,
   "metadata": {},
   "outputs": [],
   "source": [
    "cat_pipeline.fit_transform(train_data)"
   ]
  },
  {
   "cell_type": "markdown",
   "metadata": {},
   "source": [
    "Finally, let's join the numerical and categorical pipelines:"
   ]
  },
  {
   "cell_type": "code",
   "execution_count": null,
   "metadata": {},
   "outputs": [],
   "source": [
    "from sklearn.pipeline import FeatureUnion\n",
    "preprocess_pipeline = FeatureUnion(transformer_list=[\n",
    "        (\"num_pipeline\", num_pipeline),\n",
    "        (\"cat_pipeline\", cat_pipeline),\n",
    "    ])"
   ]
  },
  {
   "cell_type": "markdown",
   "metadata": {},
   "source": [
    "Cool! Now we have a nice preprocessing pipeline that takes the raw data and outputs numerical input features that we can feed to any Machine Learning model we want."
   ]
  },
  {
   "cell_type": "code",
   "execution_count": null,
   "metadata": {},
   "outputs": [],
   "source": [
    "X_train = preprocess_pipeline.fit_transform(train_data)\n",
    "X_train"
   ]
  },
  {
   "cell_type": "markdown",
   "metadata": {},
   "source": [
    "Let's not forget to get the labels:"
   ]
  },
  {
   "cell_type": "code",
   "execution_count": null,
   "metadata": {},
   "outputs": [],
   "source": [
    "y_train = train_data[\"Survived\"]"
   ]
  },
  {
   "cell_type": "markdown",
   "metadata": {},
   "source": [
    "We are now ready to train a classifier. Let's start with an `SVC`:"
   ]
  },
  {
   "cell_type": "code",
   "execution_count": null,
   "metadata": {},
   "outputs": [],
   "source": [
    "from sklearn.svm import SVC\n",
    "\n",
    "svm_clf = SVC(gamma=\"auto\")\n",
    "svm_clf.fit(X_train, y_train)"
   ]
  },
  {
   "cell_type": "markdown",
   "metadata": {},
   "source": [
    "Great, our model is trained, let's use it to make predictions on the test set:"
   ]
  },
  {
   "cell_type": "code",
   "execution_count": null,
   "metadata": {},
   "outputs": [],
   "source": [
    "X_test = preprocess_pipeline.transform(test_data)\n",
    "y_pred = svm_clf.predict(X_test)"
   ]
  },
  {
   "cell_type": "markdown",
   "metadata": {},
   "source": [
    "And now we could just build a CSV file with these predictions (respecting the format excepted by Kaggle), then upload it and hope for the best. But wait! We can do better than hope. Why don't we use cross-validation to have an idea of how good our model is?"
   ]
  },
  {
   "cell_type": "code",
   "execution_count": null,
   "metadata": {},
   "outputs": [],
   "source": [
    "from sklearn.model_selection import cross_val_score\n",
    "\n",
    "svm_scores = cross_val_score(svm_clf, X_train, y_train, cv=10)\n",
    "svm_scores.mean()"
   ]
  },
  {
   "cell_type": "markdown",
   "metadata": {},
   "source": [
    "Okay, over 73% accuracy, clearly better than random chance, but it's not a great score. Looking at the [leaderboard](https://www.kaggle.com/c/titanic/leaderboard) for the Titanic competition on Kaggle, you can see that you need to reach above 80% accuracy to be within the top 10% Kagglers. Some reached 100%, but since you can easily find the [list of victims](https://www.encyclopedia-titanica.org/titanic-victims/) of the Titanic, it seems likely that there was little Machine Learning involved in their performance! ;-) So let's try to build a model that reaches 80% accuracy."
   ]
  },
  {
   "cell_type": "markdown",
   "metadata": {},
   "source": [
    "Let's try a `RandomForestClassifier`:"
   ]
  },
  {
   "cell_type": "code",
   "execution_count": null,
   "metadata": {},
   "outputs": [],
   "source": [
    "from sklearn.ensemble import RandomForestClassifier\n",
    "\n",
    "forest_clf = RandomForestClassifier(n_estimators=100, random_state=42)\n",
    "forest_scores = cross_val_score(forest_clf, X_train, y_train, cv=10)\n",
    "forest_scores.mean()"
   ]
  },
  {
   "cell_type": "markdown",
   "metadata": {},
   "source": [
    "That's much better!"
   ]
  },
  {
   "cell_type": "markdown",
   "metadata": {},
   "source": [
    "Instead of just looking at the mean accuracy across the 10 cross-validation folds, let's plot all 10 scores for each model, along with a box plot highlighting the lower and upper quartiles, and \"whiskers\" showing the extent of the scores (thanks to Nevin Yilmaz for suggesting this visualization). Note that the `boxplot()` function detects outliers (called \"fliers\") and does not include them within the whiskers. Specifically, if the lower quartile is $Q_1$ and the upper quartile is $Q_3$, then the interquartile range $IQR = Q_3 - Q_1$ (this is the box's height), and any score lower than $Q_1 - 1.5 \\times IQR$ is a flier, and so is any score greater than $Q3 + 1.5 \\times IQR$."
   ]
  },
  {
   "cell_type": "code",
   "execution_count": null,
   "metadata": {},
   "outputs": [],
   "source": [
    "plt.figure(figsize=(8, 4))\n",
    "plt.plot([1]*10, svm_scores, \".\")\n",
    "plt.plot([2]*10, forest_scores, \".\")\n",
    "plt.boxplot([svm_scores, forest_scores], labels=(\"SVM\",\"Random Forest\"))\n",
    "plt.ylabel(\"Accuracy\", fontsize=14)\n",
    "plt.show()"
   ]
  },
  {
   "cell_type": "markdown",
   "metadata": {},
   "source": [
    "To improve this result further, you could:\n",
    "* Compare many more models and tune hyperparameters using cross validation and grid search,\n",
    "* Do more feature engineering, for example:\n",
    "  * replace **SibSp** and **Parch** with their sum,\n",
    "  * try to identify parts of names that correlate well with the **Survived** attribute (e.g. if the name contains \"Countess\", then survival seems more likely),\n",
    "* try to convert numerical attributes to categorical attributes: for example, different age groups had very different survival rates (see below), so it may help to create an age bucket category and use it instead of the age. Similarly, it may be useful to have a special category for people traveling alone since only 30% of them survived (see below)."
   ]
  },
  {
   "cell_type": "code",
   "execution_count": null,
   "metadata": {},
   "outputs": [],
   "source": [
    "train_data[\"AgeBucket\"] = train_data[\"Age\"] // 15 * 15\n",
    "train_data[[\"AgeBucket\", \"Survived\"]].groupby(['AgeBucket']).mean()"
   ]
  },
  {
   "cell_type": "code",
   "execution_count": null,
   "metadata": {},
   "outputs": [],
   "source": [
    "train_data[\"RelativesOnboard\"] = train_data[\"SibSp\"] + train_data[\"Parch\"]\n",
    "train_data[[\"RelativesOnboard\", \"Survived\"]].groupby(['RelativesOnboard']).mean()"
   ]
  },
  {
   "cell_type": "markdown",
   "metadata": {},
   "source": [
    "## 4. Spam classifier"
   ]
  },
  {
   "cell_type": "markdown",
   "metadata": {},
   "source": [
    "First, let's fetch the data:"
   ]
  },
  {
   "cell_type": "code",
   "execution_count": null,
   "metadata": {},
   "outputs": [],
   "source": [
    "import os\n",
    "import tarfile\n",
    "import urllib\n",
    "\n",
    "DOWNLOAD_ROOT = \"http://spamassassin.apache.org/old/publiccorpus/\"\n",
    "HAM_URL = DOWNLOAD_ROOT + \"20030228_easy_ham.tar.bz2\"\n",
    "SPAM_URL = DOWNLOAD_ROOT + \"20030228_spam.tar.bz2\"\n",
    "SPAM_PATH = os.path.join(\"datasets\", \"spam\")\n",
    "\n",
    "def fetch_spam_data(spam_url=SPAM_URL, spam_path=SPAM_PATH):\n",
    "    if not os.path.isdir(spam_path):\n",
    "        os.makedirs(spam_path)\n",
    "    for filename, url in ((\"ham.tar.bz2\", HAM_URL), (\"spam.tar.bz2\", SPAM_URL)):\n",
    "        path = os.path.join(spam_path, filename)\n",
    "        if not os.path.isfile(path):\n",
    "            urllib.request.urlretrieve(url, path)\n",
    "        tar_bz2_file = tarfile.open(path)\n",
    "        tar_bz2_file.extractall(path=SPAM_PATH)\n",
    "        tar_bz2_file.close()"
   ]
  },
  {
   "cell_type": "code",
   "execution_count": null,
   "metadata": {},
   "outputs": [],
   "source": [
    "fetch_spam_data()"
   ]
  },
  {
   "cell_type": "markdown",
   "metadata": {},
   "source": [
    "Next, let's load all the emails:"
   ]
  },
  {
   "cell_type": "code",
   "execution_count": null,
   "metadata": {},
   "outputs": [],
   "source": [
    "HAM_DIR = os.path.join(SPAM_PATH, \"easy_ham\")\n",
    "SPAM_DIR = os.path.join(SPAM_PATH, \"spam\")\n",
    "ham_filenames = [name for name in sorted(os.listdir(HAM_DIR)) if len(name) > 20]\n",
    "spam_filenames = [name for name in sorted(os.listdir(SPAM_DIR)) if len(name) > 20]"
   ]
  },
  {
   "cell_type": "code",
   "execution_count": null,
   "metadata": {},
   "outputs": [],
   "source": [
    "len(ham_filenames)"
   ]
  },
  {
   "cell_type": "code",
   "execution_count": null,
   "metadata": {},
   "outputs": [],
   "source": [
    "len(spam_filenames)"
   ]
  },
  {
   "cell_type": "markdown",
   "metadata": {},
   "source": [
    "We can use Python's `email` module to parse these emails (this handles headers, encoding, and so on):"
   ]
  },
  {
   "cell_type": "code",
   "execution_count": null,
   "metadata": {},
   "outputs": [],
   "source": [
    "import email\n",
    "import email.policy\n",
    "\n",
    "def load_email(is_spam, filename, spam_path=SPAM_PATH):\n",
    "    directory = \"spam\" if is_spam else \"easy_ham\"\n",
    "    with open(os.path.join(spam_path, directory, filename), \"rb\") as f:\n",
    "        return email.parser.BytesParser(policy=email.policy.default).parse(f)"
   ]
  },
  {
   "cell_type": "code",
   "execution_count": null,
   "metadata": {},
   "outputs": [],
   "source": [
    "ham_emails = [load_email(is_spam=False, filename=name) for name in ham_filenames]\n",
    "spam_emails = [load_email(is_spam=True, filename=name) for name in spam_filenames]"
   ]
  },
  {
   "cell_type": "markdown",
   "metadata": {},
   "source": [
    "Let's look at one example of ham and one example of spam, to get a feel of what the data looks like:"
   ]
  },
  {
   "cell_type": "code",
   "execution_count": null,
   "metadata": {},
   "outputs": [],
   "source": [
    "print(ham_emails[1].get_content().strip())"
   ]
  },
  {
   "cell_type": "code",
   "execution_count": null,
   "metadata": {},
   "outputs": [],
   "source": [
    "print(spam_emails[6].get_content().strip())"
   ]
  },
  {
   "cell_type": "markdown",
   "metadata": {},
   "source": [
    "Some emails are actually multipart, with images and attachments (which can have their own attachments). Let's look at the various types of structures we have:"
   ]
  },
  {
   "cell_type": "code",
   "execution_count": null,
   "metadata": {},
   "outputs": [],
   "source": [
    "def get_email_structure(email):\n",
    "    if isinstance(email, str):\n",
    "        return email\n",
    "    payload = email.get_payload()\n",
    "    if isinstance(payload, list):\n",
    "        return \"multipart({})\".format(\", \".join([\n",
    "            get_email_structure(sub_email)\n",
    "            for sub_email in payload\n",
    "        ]))\n",
    "    else:\n",
    "        return email.get_content_type()"
   ]
  },
  {
   "cell_type": "code",
   "execution_count": null,
   "metadata": {},
   "outputs": [],
   "source": [
    "from collections import Counter\n",
    "\n",
    "def structures_counter(emails):\n",
    "    structures = Counter()\n",
    "    for email in emails:\n",
    "        structure = get_email_structure(email)\n",
    "        structures[structure] += 1\n",
    "    return structures"
   ]
  },
  {
   "cell_type": "code",
   "execution_count": null,
   "metadata": {},
   "outputs": [],
   "source": [
    "structures_counter(ham_emails).most_common()"
   ]
  },
  {
   "cell_type": "code",
   "execution_count": null,
   "metadata": {},
   "outputs": [],
   "source": [
    "structures_counter(spam_emails).most_common()"
   ]
  },
  {
   "cell_type": "markdown",
   "metadata": {},
   "source": [
    "It seems that the ham emails are more often plain text, while spam has quite a lot of HTML. Moreover, quite a few ham emails are signed using PGP, while no spam is. In short, it seems that the email structure is useful information to have."
   ]
  },
  {
   "cell_type": "markdown",
   "metadata": {},
   "source": [
    "Now let's take a look at the email headers:"
   ]
  },
  {
   "cell_type": "code",
   "execution_count": null,
   "metadata": {},
   "outputs": [],
   "source": [
    "for header, value in spam_emails[0].items():\n",
    "    print(header,\":\",value)"
   ]
  },
  {
   "cell_type": "markdown",
   "metadata": {},
   "source": [
    "There's probably a lot of useful information in there, such as the sender's email address (12a1mailbot1@web.de looks fishy), but we will just focus on the `Subject` header:"
   ]
  },
  {
   "cell_type": "code",
   "execution_count": null,
   "metadata": {},
   "outputs": [],
   "source": [
    "spam_emails[0][\"Subject\"]"
   ]
  },
  {
   "cell_type": "markdown",
   "metadata": {},
   "source": [
    "Okay, before we learn too much about the data, let's not forget to split it into a training set and a test set:"
   ]
  },
  {
   "cell_type": "code",
   "execution_count": null,
   "metadata": {},
   "outputs": [],
   "source": [
    "import numpy as np\n",
    "from sklearn.model_selection import train_test_split\n",
    "\n",
    "X = np.array(ham_emails + spam_emails, dtype=object)\n",
    "y = np.array([0] * len(ham_emails) + [1] * len(spam_emails))\n",
    "\n",
    "X_train, X_test, y_train, y_test = train_test_split(X, y, test_size=0.2, random_state=42)"
   ]
  },
  {
   "cell_type": "markdown",
   "metadata": {},
   "source": [
    "Okay, let's start writing the preprocessing functions. First, we will need a function to convert HTML to plain text. Arguably the best way to do this would be to use the great [BeautifulSoup](https://www.crummy.com/software/BeautifulSoup/) library, but I would like to avoid adding another dependency to this project, so let's hack a quick & dirty solution using regular expressions (at the risk of [un̨ho͞ly radiańcé destro҉ying all enli̍̈́̂̈́ghtenment](https://stackoverflow.com/a/1732454/38626)). The following function first drops the `<head>` section, then converts all `<a>` tags to the word HYPERLINK, then it gets rid of all HTML tags, leaving only the plain text. For readability, it also replaces multiple newlines with single newlines, and finally it unescapes html entities (such as `&gt;` or `&nbsp;`):"
   ]
  },
  {
   "cell_type": "code",
   "execution_count": null,
   "metadata": {},
   "outputs": [],
   "source": [
    "import re\n",
    "from html import unescape\n",
    "\n",
    "def html_to_plain_text(html):\n",
    "    text = re.sub('<head.*?>.*?</head>', '', html, flags=re.M | re.S | re.I)\n",
    "    text = re.sub('<a\\s.*?>', ' HYPERLINK ', text, flags=re.M | re.S | re.I)\n",
    "    text = re.sub('<.*?>', '', text, flags=re.M | re.S)\n",
    "    text = re.sub(r'(\\s*\\n)+', '\\n', text, flags=re.M | re.S)\n",
    "    return unescape(text)"
   ]
  },
  {
   "cell_type": "markdown",
   "metadata": {},
   "source": [
    "Let's see if it works. This is HTML spam:"
   ]
  },
  {
   "cell_type": "code",
   "execution_count": null,
   "metadata": {},
   "outputs": [],
   "source": [
    "html_spam_emails = [email for email in X_train[y_train==1]\n",
    "                    if get_email_structure(email) == \"text/html\"]\n",
    "sample_html_spam = html_spam_emails[7]\n",
    "print(sample_html_spam.get_content().strip()[:1000], \"...\")"
   ]
  },
  {
   "cell_type": "markdown",
   "metadata": {},
   "source": [
    "And this is the resulting plain text:"
   ]
  },
  {
   "cell_type": "code",
   "execution_count": null,
   "metadata": {},
   "outputs": [],
   "source": [
    "print(html_to_plain_text(sample_html_spam.get_content())[:1000], \"...\")"
   ]
  },
  {
   "cell_type": "markdown",
   "metadata": {},
   "source": [
    "Great! Now let's write a function that takes an email as input and returns its content as plain text, whatever its format is:"
   ]
  },
  {
   "cell_type": "code",
   "execution_count": null,
   "metadata": {},
   "outputs": [],
   "source": [
    "def email_to_text(email):\n",
    "    html = None\n",
    "    for part in email.walk():\n",
    "        ctype = part.get_content_type()\n",
    "        if not ctype in (\"text/plain\", \"text/html\"):\n",
    "            continue\n",
    "        try:\n",
    "            content = part.get_content()\n",
    "        except: # in case of encoding issues\n",
    "            content = str(part.get_payload())\n",
    "        if ctype == \"text/plain\":\n",
    "            return content\n",
    "        else:\n",
    "            html = content\n",
    "    if html:\n",
    "        return html_to_plain_text(html)"
   ]
  },
  {
   "cell_type": "code",
   "execution_count": null,
   "metadata": {},
   "outputs": [],
   "source": [
    "print(email_to_text(sample_html_spam)[:100], \"...\")"
   ]
  },
  {
   "cell_type": "markdown",
   "metadata": {},
   "source": [
    "Let's throw in some stemming! For this to work, you need to install the Natural Language Toolkit ([NLTK](http://www.nltk.org/)). It's as simple as running the following command (don't forget to activate your virtualenv first; if you don't have one, you will likely need administrator rights, or use the `--user` option):\n",
    "\n",
    "`$ pip3 install nltk`"
   ]
  },
  {
   "cell_type": "code",
   "execution_count": null,
   "metadata": {},
   "outputs": [],
   "source": [
    "try:\n",
    "    import nltk\n",
    "\n",
    "    stemmer = nltk.PorterStemmer()\n",
    "    for word in (\"Computations\", \"Computation\", \"Computing\", \"Computed\", \"Compute\", \"Compulsive\"):\n",
    "        print(word, \"=>\", stemmer.stem(word))\n",
    "except ImportError:\n",
    "    print(\"Error: stemming requires the NLTK module.\")\n",
    "    stemmer = None"
   ]
  },
  {
   "cell_type": "markdown",
   "metadata": {},
   "source": [
    "We will also need a way to replace URLs with the word \"URL\". For this, we could use hard core [regular expressions](https://mathiasbynens.be/demo/url-regex) but we will just use the [urlextract](https://github.com/lipoja/URLExtract) library. You can install it with the following command (don't forget to activate your virtualenv first; if you don't have one, you will likely need administrator rights, or use the `--user` option):\n",
    "\n",
    "`$ pip3 install urlextract`"
   ]
  },
  {
   "cell_type": "code",
   "execution_count": null,
   "metadata": {},
   "outputs": [],
   "source": [
    "# if running this notebook on Colab, we just pip install urlextract\n",
    "try:\n",
    "    import google.colab\n",
    "    !pip install -q -U urlextract\n",
    "except ImportError:\n",
    "    pass # not running on Colab"
   ]
  },
  {
   "cell_type": "code",
   "execution_count": null,
   "metadata": {},
   "outputs": [],
   "source": [
    "try:\n",
    "    import urlextract # may require an Internet connection to download root domain names\n",
    "    \n",
    "    url_extractor = urlextract.URLExtract()\n",
    "    print(url_extractor.find_urls(\"Will it detect github.com and https://youtu.be/7Pq-S557XQU?t=3m32s\"))\n",
    "except ImportError:\n",
    "    print(\"Error: replacing URLs requires the urlextract module.\")\n",
    "    url_extractor = None"
   ]
  },
  {
   "cell_type": "markdown",
   "metadata": {},
   "source": [
    "We are ready to put all this together into a transformer that we will use to convert emails to word counters. Note that we split sentences into words using Python's `split()` method, which uses whitespaces for word boundaries. This works for many written languages, but not all. For example, Chinese and Japanese scripts generally don't use spaces between words, and Vietnamese often uses spaces even between syllables. It's okay in this exercise, because the dataset is (mostly) in English."
   ]
  },
  {
   "cell_type": "code",
   "execution_count": null,
   "metadata": {},
   "outputs": [],
   "source": [
    "from sklearn.base import BaseEstimator, TransformerMixin\n",
    "\n",
    "class EmailToWordCounterTransformer(BaseEstimator, TransformerMixin):\n",
    "    def __init__(self, strip_headers=True, lower_case=True, remove_punctuation=True,\n",
    "                 replace_urls=True, replace_numbers=True, stemming=True):\n",
    "        self.strip_headers = strip_headers\n",
    "        self.lower_case = lower_case\n",
    "        self.remove_punctuation = remove_punctuation\n",
    "        self.replace_urls = replace_urls\n",
    "        self.replace_numbers = replace_numbers\n",
    "        self.stemming = stemming\n",
    "    def fit(self, X, y=None):\n",
    "        return self\n",
    "    def transform(self, X, y=None):\n",
    "        X_transformed = []\n",
    "        for email in X:\n",
    "            text = email_to_text(email) or \"\"\n",
    "            if self.lower_case:\n",
    "                text = text.lower()\n",
    "            if self.replace_urls and url_extractor is not None:\n",
    "                urls = list(set(url_extractor.find_urls(text)))\n",
    "                urls.sort(key=lambda url: len(url), reverse=True)\n",
    "                for url in urls:\n",
    "                    text = text.replace(url, \" URL \")\n",
    "            if self.replace_numbers:\n",
    "                text = re.sub(r'\\d+(?:\\.\\d*(?:[eE]\\d+))?', 'NUMBER', text)\n",
    "            if self.remove_punctuation:\n",
    "                text = re.sub(r'\\W+', ' ', text, flags=re.M)\n",
    "            word_counts = Counter(text.split())\n",
    "            if self.stemming and stemmer is not None:\n",
    "                stemmed_word_counts = Counter()\n",
    "                for word, count in word_counts.items():\n",
    "                    stemmed_word = stemmer.stem(word)\n",
    "                    stemmed_word_counts[stemmed_word] += count\n",
    "                word_counts = stemmed_word_counts\n",
    "            X_transformed.append(word_counts)\n",
    "        return np.array(X_transformed)"
   ]
  },
  {
   "cell_type": "markdown",
   "metadata": {},
   "source": [
    "Let's try this transformer on a few emails:"
   ]
  },
  {
   "cell_type": "code",
   "execution_count": null,
   "metadata": {},
   "outputs": [],
   "source": [
    "X_few = X_train[:3]\n",
    "X_few_wordcounts = EmailToWordCounterTransformer().fit_transform(X_few)\n",
    "X_few_wordcounts"
   ]
  },
  {
   "cell_type": "markdown",
   "metadata": {},
   "source": [
    "This looks about right!"
   ]
  },
  {
   "cell_type": "markdown",
   "metadata": {},
   "source": [
    "Now we have the word counts, and we need to convert them to vectors. For this, we will build another transformer whose `fit()` method will build the vocabulary (an ordered list of the most common words) and whose `transform()` method will use the vocabulary to convert word counts to vectors. The output is a sparse matrix."
   ]
  },
  {
   "cell_type": "code",
   "execution_count": null,
   "metadata": {},
   "outputs": [],
   "source": [
    "from scipy.sparse import csr_matrix\n",
    "\n",
    "class WordCounterToVectorTransformer(BaseEstimator, TransformerMixin):\n",
    "    def __init__(self, vocabulary_size=1000):\n",
    "        self.vocabulary_size = vocabulary_size\n",
    "    def fit(self, X, y=None):\n",
    "        total_count = Counter()\n",
    "        for word_count in X:\n",
    "            for word, count in word_count.items():\n",
    "                total_count[word] += min(count, 10)\n",
    "        most_common = total_count.most_common()[:self.vocabulary_size]\n",
    "        self.most_common_ = most_common\n",
    "        self.vocabulary_ = {word: index + 1 for index, (word, count) in enumerate(most_common)}\n",
    "        return self\n",
    "    def transform(self, X, y=None):\n",
    "        rows = []\n",
    "        cols = []\n",
    "        data = []\n",
    "        for row, word_count in enumerate(X):\n",
    "            for word, count in word_count.items():\n",
    "                rows.append(row)\n",
    "                cols.append(self.vocabulary_.get(word, 0))\n",
    "                data.append(count)\n",
    "        return csr_matrix((data, (rows, cols)), shape=(len(X), self.vocabulary_size + 1))"
   ]
  },
  {
   "cell_type": "code",
   "execution_count": null,
   "metadata": {},
   "outputs": [],
   "source": [
    "vocab_transformer = WordCounterToVectorTransformer(vocabulary_size=10)\n",
    "X_few_vectors = vocab_transformer.fit_transform(X_few_wordcounts)\n",
    "X_few_vectors"
   ]
  },
  {
   "cell_type": "code",
   "execution_count": null,
   "metadata": {},
   "outputs": [],
   "source": [
    "X_few_vectors.toarray()"
   ]
  },
  {
   "cell_type": "markdown",
   "metadata": {},
   "source": [
    "What does this matrix mean? Well, the 99 in the second row, first column, means that the second email contains 99 words that are not part of the vocabulary. The 11 next to it means that the first word in the vocabulary is present 11 times in this email. The 9 next to it means that the second word is present 9 times, and so on. You can look at the vocabulary to know which words we are talking about. The first word is \"the\", the second word is \"of\", etc."
   ]
  },
  {
   "cell_type": "code",
   "execution_count": null,
   "metadata": {},
   "outputs": [],
   "source": [
    "vocab_transformer.vocabulary_"
   ]
  },
  {
   "cell_type": "markdown",
   "metadata": {},
   "source": [
    "We are now ready to train our first spam classifier! Let's transform the whole dataset:"
   ]
  },
  {
   "cell_type": "code",
   "execution_count": null,
   "metadata": {},
   "outputs": [],
   "source": [
    "from sklearn.pipeline import Pipeline\n",
    "\n",
    "preprocess_pipeline = Pipeline([\n",
    "    (\"email_to_wordcount\", EmailToWordCounterTransformer()),\n",
    "    (\"wordcount_to_vector\", WordCounterToVectorTransformer()),\n",
    "])\n",
    "\n",
    "X_train_transformed = preprocess_pipeline.fit_transform(X_train)"
   ]
  },
  {
   "cell_type": "markdown",
   "metadata": {},
   "source": [
    "**Note**: to be future-proof, we set `solver=\"lbfgs\"` since this will be the default value in Scikit-Learn 0.22."
   ]
  },
  {
   "cell_type": "code",
   "execution_count": null,
   "metadata": {},
   "outputs": [],
   "source": [
    "from sklearn.linear_model import LogisticRegression\n",
    "from sklearn.model_selection import cross_val_score\n",
    "\n",
    "log_clf = LogisticRegression(solver=\"lbfgs\", max_iter=1000, random_state=42)\n",
    "score = cross_val_score(log_clf, X_train_transformed, y_train, cv=3, verbose=3)\n",
    "score.mean()"
   ]
  },
  {
   "cell_type": "markdown",
   "metadata": {},
   "source": [
    "Over 98.5%, not bad for a first try! :) However, remember that we are using the \"easy\" dataset. You can try with the harder datasets, the results won't be so amazing. You would have to try multiple models, select the best ones and fine-tune them using cross-validation, and so on.\n",
    "\n",
    "But you get the picture, so let's stop now, and just print out the precision/recall we get on the test set:"
   ]
  },
  {
   "cell_type": "code",
   "execution_count": null,
   "metadata": {},
   "outputs": [],
   "source": [
    "from sklearn.metrics import precision_score, recall_score\n",
    "\n",
    "X_test_transformed = preprocess_pipeline.transform(X_test)\n",
    "\n",
    "log_clf = LogisticRegression(solver=\"lbfgs\", max_iter=1000, random_state=42)\n",
    "log_clf.fit(X_train_transformed, y_train)\n",
    "\n",
    "y_pred = log_clf.predict(X_test_transformed)\n",
    "\n",
    "print(\"Precision: {:.2f}%\".format(100 * precision_score(y_test, y_pred)))\n",
    "print(\"Recall: {:.2f}%\".format(100 * recall_score(y_test, y_pred)))"
   ]
  },
  {
   "cell_type": "code",
   "execution_count": null,
   "metadata": {},
   "outputs": [],
   "source": []
  }
 ],
 "metadata": {
  "kernelspec": {
   "display_name": "Python 3",
   "language": "python",
   "name": "python3"
  },
  "language_info": {
   "codemirror_mode": {
    "name": "ipython",
    "version": 3
   },
   "file_extension": ".py",
   "mimetype": "text/x-python",
   "name": "python",
   "nbconvert_exporter": "python",
   "pygments_lexer": "ipython3",
   "version": "3.8.5"
  },
  "nav_menu": {},
  "toc": {
   "navigate_menu": true,
   "number_sections": true,
   "sideBar": true,
   "threshold": 6,
   "toc_cell": false,
   "toc_section_display": "block",
   "toc_window_display": false
  }
 },
 "nbformat": 4,
 "nbformat_minor": 4
}
